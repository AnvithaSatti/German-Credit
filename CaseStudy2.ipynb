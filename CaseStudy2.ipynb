{
 "cells": [
  {
   "cell_type": "code",
   "execution_count": 1,
   "id": "a83e0523",
   "metadata": {},
   "outputs": [],
   "source": [
    "# Library to suppress warnings or deprecation notes \n",
    "import warnings\n",
    "warnings.filterwarnings('ignore')\n",
    "\n",
    "# Libraries to help with reading and manipulating data\n",
    "import numpy as np\n",
    "import pandas as pd\n",
    "\n",
    "# Libraries to help with data visualization\n",
    "import matplotlib.pyplot as plt\n",
    "%matplotlib inline\n",
    "import seaborn as sns\n",
    "\n",
    "# Library to split data \n",
    "from sklearn.model_selection import train_test_split\n",
    "\n",
    "# Libraries to import decision tree classifier and random forest classifier\n",
    "from sklearn.ensemble import RandomForestClassifier\n",
    "from sklearn.tree import DecisionTreeClassifier\n",
    "from sklearn import tree\n",
    "\n",
    "# Libtune to tune model, get different metric scores\n",
    "from sklearn import metrics\n",
    "from sklearn.metrics import confusion_matrix, classification_report, accuracy_score, precision_score, recall_score,f1_score,roc_auc_score\n",
    "from sklearn.model_selection import GridSearchCV"
   ]
  },
  {
   "cell_type": "code",
   "execution_count": 2,
   "id": "c0e77e3f",
   "metadata": {},
   "outputs": [],
   "source": [
    "gcr=pd.read_csv(\"German_Credit.csv\")"
   ]
  },
  {
   "cell_type": "code",
   "execution_count": 3,
   "id": "6250b2da",
   "metadata": {},
   "outputs": [],
   "source": [
    "copy=gcr.copy()"
   ]
  },
  {
   "cell_type": "code",
   "execution_count": 4,
   "id": "c943072a",
   "metadata": {},
   "outputs": [
    {
     "data": {
      "text/html": [
       "<div>\n",
       "<style scoped>\n",
       "    .dataframe tbody tr th:only-of-type {\n",
       "        vertical-align: middle;\n",
       "    }\n",
       "\n",
       "    .dataframe tbody tr th {\n",
       "        vertical-align: top;\n",
       "    }\n",
       "\n",
       "    .dataframe thead th {\n",
       "        text-align: right;\n",
       "    }\n",
       "</style>\n",
       "<table border=\"1\" class=\"dataframe\">\n",
       "  <thead>\n",
       "    <tr style=\"text-align: right;\">\n",
       "      <th></th>\n",
       "      <th>Age</th>\n",
       "      <th>Sex</th>\n",
       "      <th>Job</th>\n",
       "      <th>Housing</th>\n",
       "      <th>Saving accounts</th>\n",
       "      <th>Checking account</th>\n",
       "      <th>Credit amount</th>\n",
       "      <th>Duration</th>\n",
       "      <th>Risk</th>\n",
       "      <th>Purpose</th>\n",
       "    </tr>\n",
       "  </thead>\n",
       "  <tbody>\n",
       "    <tr>\n",
       "      <th>0</th>\n",
       "      <td>67</td>\n",
       "      <td>male</td>\n",
       "      <td>skilled</td>\n",
       "      <td>own</td>\n",
       "      <td>little</td>\n",
       "      <td>little</td>\n",
       "      <td>1169</td>\n",
       "      <td>6</td>\n",
       "      <td>0</td>\n",
       "      <td>radio/TV</td>\n",
       "    </tr>\n",
       "    <tr>\n",
       "      <th>1</th>\n",
       "      <td>22</td>\n",
       "      <td>female</td>\n",
       "      <td>skilled</td>\n",
       "      <td>own</td>\n",
       "      <td>little</td>\n",
       "      <td>moderate</td>\n",
       "      <td>5951</td>\n",
       "      <td>48</td>\n",
       "      <td>1</td>\n",
       "      <td>radio/TV</td>\n",
       "    </tr>\n",
       "    <tr>\n",
       "      <th>2</th>\n",
       "      <td>49</td>\n",
       "      <td>male</td>\n",
       "      <td>unskilled_and_non-resident</td>\n",
       "      <td>own</td>\n",
       "      <td>little</td>\n",
       "      <td>little</td>\n",
       "      <td>2096</td>\n",
       "      <td>12</td>\n",
       "      <td>0</td>\n",
       "      <td>education</td>\n",
       "    </tr>\n",
       "    <tr>\n",
       "      <th>3</th>\n",
       "      <td>45</td>\n",
       "      <td>male</td>\n",
       "      <td>skilled</td>\n",
       "      <td>free</td>\n",
       "      <td>little</td>\n",
       "      <td>little</td>\n",
       "      <td>7882</td>\n",
       "      <td>42</td>\n",
       "      <td>0</td>\n",
       "      <td>furniture/equipment</td>\n",
       "    </tr>\n",
       "    <tr>\n",
       "      <th>4</th>\n",
       "      <td>53</td>\n",
       "      <td>male</td>\n",
       "      <td>skilled</td>\n",
       "      <td>free</td>\n",
       "      <td>little</td>\n",
       "      <td>little</td>\n",
       "      <td>4870</td>\n",
       "      <td>24</td>\n",
       "      <td>1</td>\n",
       "      <td>car</td>\n",
       "    </tr>\n",
       "  </tbody>\n",
       "</table>\n",
       "</div>"
      ],
      "text/plain": [
       "   Age     Sex                         Job Housing Saving accounts  \\\n",
       "0   67    male                     skilled     own          little   \n",
       "1   22  female                     skilled     own          little   \n",
       "2   49    male  unskilled_and_non-resident     own          little   \n",
       "3   45    male                     skilled    free          little   \n",
       "4   53    male                     skilled    free          little   \n",
       "\n",
       "  Checking account  Credit amount  Duration  Risk              Purpose  \n",
       "0           little           1169         6     0             radio/TV  \n",
       "1         moderate           5951        48     1             radio/TV  \n",
       "2           little           2096        12     0            education  \n",
       "3           little           7882        42     0  furniture/equipment  \n",
       "4           little           4870        24     1                  car  "
      ]
     },
     "execution_count": 4,
     "metadata": {},
     "output_type": "execute_result"
    }
   ],
   "source": [
    "copy.head()"
   ]
  },
  {
   "cell_type": "code",
   "execution_count": 5,
   "id": "e2a088d4",
   "metadata": {},
   "outputs": [
    {
     "data": {
      "text/html": [
       "<div>\n",
       "<style scoped>\n",
       "    .dataframe tbody tr th:only-of-type {\n",
       "        vertical-align: middle;\n",
       "    }\n",
       "\n",
       "    .dataframe tbody tr th {\n",
       "        vertical-align: top;\n",
       "    }\n",
       "\n",
       "    .dataframe thead th {\n",
       "        text-align: right;\n",
       "    }\n",
       "</style>\n",
       "<table border=\"1\" class=\"dataframe\">\n",
       "  <thead>\n",
       "    <tr style=\"text-align: right;\">\n",
       "      <th></th>\n",
       "      <th>Age</th>\n",
       "      <th>Sex</th>\n",
       "      <th>Job</th>\n",
       "      <th>Housing</th>\n",
       "      <th>Saving accounts</th>\n",
       "      <th>Checking account</th>\n",
       "      <th>Credit amount</th>\n",
       "      <th>Duration</th>\n",
       "      <th>Risk</th>\n",
       "      <th>Purpose</th>\n",
       "    </tr>\n",
       "  </thead>\n",
       "  <tbody>\n",
       "    <tr>\n",
       "      <th>995</th>\n",
       "      <td>31</td>\n",
       "      <td>female</td>\n",
       "      <td>unskilled_and_non-resident</td>\n",
       "      <td>own</td>\n",
       "      <td>little</td>\n",
       "      <td>little</td>\n",
       "      <td>1736</td>\n",
       "      <td>12</td>\n",
       "      <td>0</td>\n",
       "      <td>furniture/equipment</td>\n",
       "    </tr>\n",
       "    <tr>\n",
       "      <th>996</th>\n",
       "      <td>40</td>\n",
       "      <td>male</td>\n",
       "      <td>highly skilled</td>\n",
       "      <td>own</td>\n",
       "      <td>little</td>\n",
       "      <td>little</td>\n",
       "      <td>3857</td>\n",
       "      <td>30</td>\n",
       "      <td>0</td>\n",
       "      <td>car</td>\n",
       "    </tr>\n",
       "    <tr>\n",
       "      <th>997</th>\n",
       "      <td>38</td>\n",
       "      <td>male</td>\n",
       "      <td>skilled</td>\n",
       "      <td>own</td>\n",
       "      <td>little</td>\n",
       "      <td>little</td>\n",
       "      <td>804</td>\n",
       "      <td>12</td>\n",
       "      <td>0</td>\n",
       "      <td>radio/TV</td>\n",
       "    </tr>\n",
       "    <tr>\n",
       "      <th>998</th>\n",
       "      <td>23</td>\n",
       "      <td>male</td>\n",
       "      <td>skilled</td>\n",
       "      <td>free</td>\n",
       "      <td>little</td>\n",
       "      <td>little</td>\n",
       "      <td>1845</td>\n",
       "      <td>45</td>\n",
       "      <td>1</td>\n",
       "      <td>radio/TV</td>\n",
       "    </tr>\n",
       "    <tr>\n",
       "      <th>999</th>\n",
       "      <td>27</td>\n",
       "      <td>male</td>\n",
       "      <td>skilled</td>\n",
       "      <td>own</td>\n",
       "      <td>moderate</td>\n",
       "      <td>moderate</td>\n",
       "      <td>4576</td>\n",
       "      <td>45</td>\n",
       "      <td>0</td>\n",
       "      <td>car</td>\n",
       "    </tr>\n",
       "  </tbody>\n",
       "</table>\n",
       "</div>"
      ],
      "text/plain": [
       "     Age     Sex                         Job Housing Saving accounts  \\\n",
       "995   31  female  unskilled_and_non-resident     own          little   \n",
       "996   40    male              highly skilled     own          little   \n",
       "997   38    male                     skilled     own          little   \n",
       "998   23    male                     skilled    free          little   \n",
       "999   27    male                     skilled     own        moderate   \n",
       "\n",
       "    Checking account  Credit amount  Duration  Risk              Purpose  \n",
       "995           little           1736        12     0  furniture/equipment  \n",
       "996           little           3857        30     0                  car  \n",
       "997           little            804        12     0             radio/TV  \n",
       "998           little           1845        45     1             radio/TV  \n",
       "999         moderate           4576        45     0                  car  "
      ]
     },
     "execution_count": 5,
     "metadata": {},
     "output_type": "execute_result"
    }
   ],
   "source": [
    "copy.tail()"
   ]
  },
  {
   "cell_type": "code",
   "execution_count": 6,
   "id": "9e195e62",
   "metadata": {},
   "outputs": [
    {
     "data": {
      "text/plain": [
       "(1000, 10)"
      ]
     },
     "execution_count": 6,
     "metadata": {},
     "output_type": "execute_result"
    }
   ],
   "source": [
    "copy.shape"
   ]
  },
  {
   "cell_type": "markdown",
   "id": "a3984dbe",
   "metadata": {},
   "source": [
    "There are 1000 entries with 10 columns in our dataset."
   ]
  },
  {
   "cell_type": "code",
   "execution_count": 7,
   "id": "9b7ee6ba",
   "metadata": {},
   "outputs": [
    {
     "name": "stdout",
     "output_type": "stream",
     "text": [
      "<class 'pandas.core.frame.DataFrame'>\n",
      "RangeIndex: 1000 entries, 0 to 999\n",
      "Data columns (total 10 columns):\n",
      " #   Column            Non-Null Count  Dtype \n",
      "---  ------            --------------  ----- \n",
      " 0   Age               1000 non-null   int64 \n",
      " 1   Sex               1000 non-null   object\n",
      " 2   Job               1000 non-null   object\n",
      " 3   Housing           1000 non-null   object\n",
      " 4   Saving accounts   1000 non-null   object\n",
      " 5   Checking account  1000 non-null   object\n",
      " 6   Credit amount     1000 non-null   int64 \n",
      " 7   Duration          1000 non-null   int64 \n",
      " 8   Risk              1000 non-null   int64 \n",
      " 9   Purpose           1000 non-null   object\n",
      "dtypes: int64(4), object(6)\n",
      "memory usage: 78.2+ KB\n"
     ]
    }
   ],
   "source": [
    "copy.info()"
   ]
  },
  {
   "cell_type": "markdown",
   "id": "943c2936",
   "metadata": {},
   "source": [
    "- There are some object attributes here like sex, job, housing, saving accounts, checking accounts and purpose in the applicants which has to be changed to int form to perfom analaysis as we can perform analysis only on quantitative values and not qualitative values.\n",
    "- No missing values as per python. There are 1000 values for all attributes.\n"
   ]
  },
  {
   "cell_type": "code",
   "execution_count": 8,
   "id": "68eea45e",
   "metadata": {},
   "outputs": [
    {
     "data": {
      "text/html": [
       "<div>\n",
       "<style scoped>\n",
       "    .dataframe tbody tr th:only-of-type {\n",
       "        vertical-align: middle;\n",
       "    }\n",
       "\n",
       "    .dataframe tbody tr th {\n",
       "        vertical-align: top;\n",
       "    }\n",
       "\n",
       "    .dataframe thead th {\n",
       "        text-align: right;\n",
       "    }\n",
       "</style>\n",
       "<table border=\"1\" class=\"dataframe\">\n",
       "  <thead>\n",
       "    <tr style=\"text-align: right;\">\n",
       "      <th></th>\n",
       "      <th>Age</th>\n",
       "      <th>Sex</th>\n",
       "      <th>Job</th>\n",
       "      <th>Housing</th>\n",
       "      <th>Saving accounts</th>\n",
       "      <th>Checking account</th>\n",
       "      <th>Credit amount</th>\n",
       "      <th>Duration</th>\n",
       "      <th>Risk</th>\n",
       "      <th>Purpose</th>\n",
       "    </tr>\n",
       "  </thead>\n",
       "  <tbody>\n",
       "    <tr>\n",
       "      <th>count</th>\n",
       "      <td>1000.000000</td>\n",
       "      <td>1000</td>\n",
       "      <td>1000</td>\n",
       "      <td>1000</td>\n",
       "      <td>1000</td>\n",
       "      <td>1000</td>\n",
       "      <td>1000.000000</td>\n",
       "      <td>1000.000000</td>\n",
       "      <td>1000.000000</td>\n",
       "      <td>1000</td>\n",
       "    </tr>\n",
       "    <tr>\n",
       "      <th>unique</th>\n",
       "      <td>NaN</td>\n",
       "      <td>2</td>\n",
       "      <td>3</td>\n",
       "      <td>3</td>\n",
       "      <td>4</td>\n",
       "      <td>3</td>\n",
       "      <td>NaN</td>\n",
       "      <td>NaN</td>\n",
       "      <td>NaN</td>\n",
       "      <td>8</td>\n",
       "    </tr>\n",
       "    <tr>\n",
       "      <th>top</th>\n",
       "      <td>NaN</td>\n",
       "      <td>male</td>\n",
       "      <td>skilled</td>\n",
       "      <td>own</td>\n",
       "      <td>little</td>\n",
       "      <td>moderate</td>\n",
       "      <td>NaN</td>\n",
       "      <td>NaN</td>\n",
       "      <td>NaN</td>\n",
       "      <td>car</td>\n",
       "    </tr>\n",
       "    <tr>\n",
       "      <th>freq</th>\n",
       "      <td>NaN</td>\n",
       "      <td>690</td>\n",
       "      <td>630</td>\n",
       "      <td>713</td>\n",
       "      <td>786</td>\n",
       "      <td>472</td>\n",
       "      <td>NaN</td>\n",
       "      <td>NaN</td>\n",
       "      <td>NaN</td>\n",
       "      <td>337</td>\n",
       "    </tr>\n",
       "    <tr>\n",
       "      <th>mean</th>\n",
       "      <td>35.546000</td>\n",
       "      <td>NaN</td>\n",
       "      <td>NaN</td>\n",
       "      <td>NaN</td>\n",
       "      <td>NaN</td>\n",
       "      <td>NaN</td>\n",
       "      <td>3271.258000</td>\n",
       "      <td>20.903000</td>\n",
       "      <td>0.300000</td>\n",
       "      <td>NaN</td>\n",
       "    </tr>\n",
       "    <tr>\n",
       "      <th>std</th>\n",
       "      <td>11.375469</td>\n",
       "      <td>NaN</td>\n",
       "      <td>NaN</td>\n",
       "      <td>NaN</td>\n",
       "      <td>NaN</td>\n",
       "      <td>NaN</td>\n",
       "      <td>2822.736876</td>\n",
       "      <td>12.058814</td>\n",
       "      <td>0.458487</td>\n",
       "      <td>NaN</td>\n",
       "    </tr>\n",
       "    <tr>\n",
       "      <th>min</th>\n",
       "      <td>19.000000</td>\n",
       "      <td>NaN</td>\n",
       "      <td>NaN</td>\n",
       "      <td>NaN</td>\n",
       "      <td>NaN</td>\n",
       "      <td>NaN</td>\n",
       "      <td>250.000000</td>\n",
       "      <td>4.000000</td>\n",
       "      <td>0.000000</td>\n",
       "      <td>NaN</td>\n",
       "    </tr>\n",
       "    <tr>\n",
       "      <th>25%</th>\n",
       "      <td>27.000000</td>\n",
       "      <td>NaN</td>\n",
       "      <td>NaN</td>\n",
       "      <td>NaN</td>\n",
       "      <td>NaN</td>\n",
       "      <td>NaN</td>\n",
       "      <td>1365.500000</td>\n",
       "      <td>12.000000</td>\n",
       "      <td>0.000000</td>\n",
       "      <td>NaN</td>\n",
       "    </tr>\n",
       "    <tr>\n",
       "      <th>50%</th>\n",
       "      <td>33.000000</td>\n",
       "      <td>NaN</td>\n",
       "      <td>NaN</td>\n",
       "      <td>NaN</td>\n",
       "      <td>NaN</td>\n",
       "      <td>NaN</td>\n",
       "      <td>2319.500000</td>\n",
       "      <td>18.000000</td>\n",
       "      <td>0.000000</td>\n",
       "      <td>NaN</td>\n",
       "    </tr>\n",
       "    <tr>\n",
       "      <th>75%</th>\n",
       "      <td>42.000000</td>\n",
       "      <td>NaN</td>\n",
       "      <td>NaN</td>\n",
       "      <td>NaN</td>\n",
       "      <td>NaN</td>\n",
       "      <td>NaN</td>\n",
       "      <td>3972.250000</td>\n",
       "      <td>24.000000</td>\n",
       "      <td>1.000000</td>\n",
       "      <td>NaN</td>\n",
       "    </tr>\n",
       "    <tr>\n",
       "      <th>max</th>\n",
       "      <td>75.000000</td>\n",
       "      <td>NaN</td>\n",
       "      <td>NaN</td>\n",
       "      <td>NaN</td>\n",
       "      <td>NaN</td>\n",
       "      <td>NaN</td>\n",
       "      <td>18424.000000</td>\n",
       "      <td>72.000000</td>\n",
       "      <td>1.000000</td>\n",
       "      <td>NaN</td>\n",
       "    </tr>\n",
       "  </tbody>\n",
       "</table>\n",
       "</div>"
      ],
      "text/plain": [
       "                Age   Sex      Job Housing Saving accounts Checking account  \\\n",
       "count   1000.000000  1000     1000    1000            1000             1000   \n",
       "unique          NaN     2        3       3               4                3   \n",
       "top             NaN  male  skilled     own          little         moderate   \n",
       "freq            NaN   690      630     713             786              472   \n",
       "mean      35.546000   NaN      NaN     NaN             NaN              NaN   \n",
       "std       11.375469   NaN      NaN     NaN             NaN              NaN   \n",
       "min       19.000000   NaN      NaN     NaN             NaN              NaN   \n",
       "25%       27.000000   NaN      NaN     NaN             NaN              NaN   \n",
       "50%       33.000000   NaN      NaN     NaN             NaN              NaN   \n",
       "75%       42.000000   NaN      NaN     NaN             NaN              NaN   \n",
       "max       75.000000   NaN      NaN     NaN             NaN              NaN   \n",
       "\n",
       "        Credit amount     Duration         Risk Purpose  \n",
       "count     1000.000000  1000.000000  1000.000000    1000  \n",
       "unique            NaN          NaN          NaN       8  \n",
       "top               NaN          NaN          NaN     car  \n",
       "freq              NaN          NaN          NaN     337  \n",
       "mean      3271.258000    20.903000     0.300000     NaN  \n",
       "std       2822.736876    12.058814     0.458487     NaN  \n",
       "min        250.000000     4.000000     0.000000     NaN  \n",
       "25%       1365.500000    12.000000     0.000000     NaN  \n",
       "50%       2319.500000    18.000000     0.000000     NaN  \n",
       "75%       3972.250000    24.000000     1.000000     NaN  \n",
       "max      18424.000000    72.000000     1.000000     NaN  "
      ]
     },
     "execution_count": 8,
     "metadata": {},
     "output_type": "execute_result"
    }
   ],
   "source": [
    "copy.describe(include='all')"
   ]
  },
  {
   "cell_type": "code",
   "execution_count": 9,
   "id": "ce21e626",
   "metadata": {},
   "outputs": [
    {
     "data": {
      "text/plain": [
       "53"
      ]
     },
     "execution_count": 9,
     "metadata": {},
     "output_type": "execute_result"
    }
   ],
   "source": [
    "copy[\"Age\"].nunique()"
   ]
  },
  {
   "cell_type": "code",
   "execution_count": 10,
   "id": "3422b944",
   "metadata": {},
   "outputs": [
    {
     "data": {
      "text/plain": [
       "[67,\n",
       " 22,\n",
       " 49,\n",
       " 45,\n",
       " 53,\n",
       " 35,\n",
       " 53,\n",
       " 35,\n",
       " 61,\n",
       " 28,\n",
       " 25,\n",
       " 24,\n",
       " 22,\n",
       " 60,\n",
       " 28,\n",
       " 32,\n",
       " 53,\n",
       " 25,\n",
       " 44,\n",
       " 31,\n",
       " 48,\n",
       " 44,\n",
       " 48,\n",
       " 44,\n",
       " 26,\n",
       " 36,\n",
       " 39,\n",
       " 42,\n",
       " 34,\n",
       " 63,\n",
       " 36,\n",
       " 27,\n",
       " 30,\n",
       " 57,\n",
       " 33,\n",
       " 25,\n",
       " 31,\n",
       " 37,\n",
       " 37,\n",
       " 24,\n",
       " 30,\n",
       " 26,\n",
       " 44,\n",
       " 24,\n",
       " 58,\n",
       " 35,\n",
       " 39,\n",
       " 23,\n",
       " 39,\n",
       " 28,\n",
       " 29,\n",
       " 30,\n",
       " 25,\n",
       " 31,\n",
       " 57,\n",
       " 26,\n",
       " 52,\n",
       " 31,\n",
       " 23,\n",
       " 23,\n",
       " 27,\n",
       " 50,\n",
       " 61,\n",
       " 25,\n",
       " 26,\n",
       " 48,\n",
       " 29,\n",
       " 22,\n",
       " 37,\n",
       " 25,\n",
       " 30,\n",
       " 46,\n",
       " 51,\n",
       " 41,\n",
       " 40,\n",
       " 66,\n",
       " 34,\n",
       " 51,\n",
       " 39,\n",
       " 22,\n",
       " 44,\n",
       " 47,\n",
       " 24,\n",
       " 58,\n",
       " 52,\n",
       " 29,\n",
       " 27,\n",
       " 47,\n",
       " 30,\n",
       " 28,\n",
       " 56,\n",
       " 54,\n",
       " 33,\n",
       " 20,\n",
       " 54,\n",
       " 58,\n",
       " 61,\n",
       " 34,\n",
       " 36,\n",
       " 36,\n",
       " 41,\n",
       " 24,\n",
       " 24,\n",
       " 35,\n",
       " 26,\n",
       " 39,\n",
       " 39,\n",
       " 32,\n",
       " 30,\n",
       " 35,\n",
       " 31,\n",
       " 23,\n",
       " 28,\n",
       " 25,\n",
       " 35,\n",
       " 47,\n",
       " 30,\n",
       " 27,\n",
       " 23,\n",
       " 36,\n",
       " 25,\n",
       " 41,\n",
       " 24,\n",
       " 63,\n",
       " 27,\n",
       " 30,\n",
       " 40,\n",
       " 30,\n",
       " 34,\n",
       " 29,\n",
       " 24,\n",
       " 29,\n",
       " 27,\n",
       " 47,\n",
       " 21,\n",
       " 38,\n",
       " 27,\n",
       " 66,\n",
       " 35,\n",
       " 44,\n",
       " 27,\n",
       " 30,\n",
       " 27,\n",
       " 22,\n",
       " 23,\n",
       " 30,\n",
       " 39,\n",
       " 51,\n",
       " 28,\n",
       " 46,\n",
       " 42,\n",
       " 38,\n",
       " 24,\n",
       " 29,\n",
       " 36,\n",
       " 20,\n",
       " 48,\n",
       " 45,\n",
       " 38,\n",
       " 34,\n",
       " 36,\n",
       " 30,\n",
       " 36,\n",
       " 70,\n",
       " 36,\n",
       " 32,\n",
       " 33,\n",
       " 20,\n",
       " 25,\n",
       " 31,\n",
       " 33,\n",
       " 26,\n",
       " 34,\n",
       " 33,\n",
       " 26,\n",
       " 53,\n",
       " 42,\n",
       " 52,\n",
       " 31,\n",
       " 65,\n",
       " 28,\n",
       " 30,\n",
       " 40,\n",
       " 50,\n",
       " 36,\n",
       " 31,\n",
       " 74,\n",
       " 68,\n",
       " 20,\n",
       " 33,\n",
       " 54,\n",
       " 34,\n",
       " 36,\n",
       " 29,\n",
       " 21,\n",
       " 34,\n",
       " 28,\n",
       " 27,\n",
       " 36,\n",
       " 40,\n",
       " 52,\n",
       " 27,\n",
       " 26,\n",
       " 21,\n",
       " 38,\n",
       " 38,\n",
       " 43,\n",
       " 26,\n",
       " 21,\n",
       " 55,\n",
       " 33,\n",
       " 45,\n",
       " 50,\n",
       " 66,\n",
       " 51,\n",
       " 39,\n",
       " 31,\n",
       " 23,\n",
       " 24,\n",
       " 64,\n",
       " 26,\n",
       " 23,\n",
       " 30,\n",
       " 32,\n",
       " 30,\n",
       " 27,\n",
       " 27,\n",
       " 53,\n",
       " 22,\n",
       " 22,\n",
       " 26,\n",
       " 51,\n",
       " 35,\n",
       " 25,\n",
       " 42,\n",
       " 30,\n",
       " 23,\n",
       " 61,\n",
       " 35,\n",
       " 39,\n",
       " 29,\n",
       " 51,\n",
       " 24,\n",
       " 27,\n",
       " 35,\n",
       " 25,\n",
       " 52,\n",
       " 35,\n",
       " 26,\n",
       " 22,\n",
       " 39,\n",
       " 46,\n",
       " 24,\n",
       " 35,\n",
       " 24,\n",
       " 27,\n",
       " 35,\n",
       " 29,\n",
       " 23,\n",
       " 57,\n",
       " 27,\n",
       " 55,\n",
       " 36,\n",
       " 57,\n",
       " 32,\n",
       " 37,\n",
       " 36,\n",
       " 38,\n",
       " 45,\n",
       " 25,\n",
       " 32,\n",
       " 37,\n",
       " 36,\n",
       " 28,\n",
       " 34,\n",
       " 32,\n",
       " 26,\n",
       " 49,\n",
       " 32,\n",
       " 29,\n",
       " 23,\n",
       " 50,\n",
       " 49,\n",
       " 63,\n",
       " 37,\n",
       " 35,\n",
       " 26,\n",
       " 31,\n",
       " 49,\n",
       " 48,\n",
       " 26,\n",
       " 28,\n",
       " 44,\n",
       " 56,\n",
       " 46,\n",
       " 26,\n",
       " 20,\n",
       " 45,\n",
       " 43,\n",
       " 32,\n",
       " 54,\n",
       " 42,\n",
       " 37,\n",
       " 49,\n",
       " 44,\n",
       " 33,\n",
       " 24,\n",
       " 33,\n",
       " 24,\n",
       " 22,\n",
       " 40,\n",
       " 25,\n",
       " 26,\n",
       " 25,\n",
       " 29,\n",
       " 31,\n",
       " 38,\n",
       " 48,\n",
       " 32,\n",
       " 27,\n",
       " 28,\n",
       " 32,\n",
       " 34,\n",
       " 28,\n",
       " 36,\n",
       " 39,\n",
       " 49,\n",
       " 34,\n",
       " 31,\n",
       " 28,\n",
       " 75,\n",
       " 30,\n",
       " 24,\n",
       " 24,\n",
       " 23,\n",
       " 44,\n",
       " 23,\n",
       " 24,\n",
       " 28,\n",
       " 31,\n",
       " 24,\n",
       " 26,\n",
       " 25,\n",
       " 33,\n",
       " 37,\n",
       " 43,\n",
       " 23,\n",
       " 23,\n",
       " 34,\n",
       " 32,\n",
       " 23,\n",
       " 29,\n",
       " 38,\n",
       " 28,\n",
       " 46,\n",
       " 23,\n",
       " 49,\n",
       " 26,\n",
       " 28,\n",
       " 23,\n",
       " 61,\n",
       " 37,\n",
       " 36,\n",
       " 21,\n",
       " 25,\n",
       " 36,\n",
       " 27,\n",
       " 22,\n",
       " 42,\n",
       " 40,\n",
       " 36,\n",
       " 33,\n",
       " 23,\n",
       " 63,\n",
       " 60,\n",
       " 37,\n",
       " 34,\n",
       " 36,\n",
       " 57,\n",
       " 52,\n",
       " 39,\n",
       " 38,\n",
       " 25,\n",
       " 26,\n",
       " 26,\n",
       " 25,\n",
       " 21,\n",
       " 40,\n",
       " 27,\n",
       " 27,\n",
       " 30,\n",
       " 19,\n",
       " 39,\n",
       " 31,\n",
       " 31,\n",
       " 32,\n",
       " 55,\n",
       " 46,\n",
       " 46,\n",
       " 43,\n",
       " 39,\n",
       " 28,\n",
       " 27,\n",
       " 27,\n",
       " 43,\n",
       " 22,\n",
       " 43,\n",
       " 27,\n",
       " 26,\n",
       " 28,\n",
       " 20,\n",
       " 35,\n",
       " 42,\n",
       " 40,\n",
       " 35,\n",
       " 35,\n",
       " 33,\n",
       " 23,\n",
       " 31,\n",
       " 33,\n",
       " 20,\n",
       " 30,\n",
       " 47,\n",
       " 34,\n",
       " 25,\n",
       " 21,\n",
       " 29,\n",
       " 46,\n",
       " 20,\n",
       " 55,\n",
       " 74,\n",
       " 29,\n",
       " 36,\n",
       " 33,\n",
       " 25,\n",
       " 25,\n",
       " 23,\n",
       " 37,\n",
       " 65,\n",
       " 26,\n",
       " 39,\n",
       " 30,\n",
       " 29,\n",
       " 41,\n",
       " 30,\n",
       " 41,\n",
       " 34,\n",
       " 35,\n",
       " 55,\n",
       " 61,\n",
       " 30,\n",
       " 29,\n",
       " 34,\n",
       " 35,\n",
       " 31,\n",
       " 29,\n",
       " 36,\n",
       " 35,\n",
       " 27,\n",
       " 32,\n",
       " 37,\n",
       " 36,\n",
       " 34,\n",
       " 38,\n",
       " 34,\n",
       " 63,\n",
       " 29,\n",
       " 32,\n",
       " 26,\n",
       " 35,\n",
       " 22,\n",
       " 23,\n",
       " 28,\n",
       " 36,\n",
       " 33,\n",
       " 26,\n",
       " 24,\n",
       " 25,\n",
       " 39,\n",
       " 44,\n",
       " 23,\n",
       " 26,\n",
       " 57,\n",
       " 30,\n",
       " 44,\n",
       " 47,\n",
       " 52,\n",
       " 62,\n",
       " 35,\n",
       " 26,\n",
       " 26,\n",
       " 42,\n",
       " 27,\n",
       " 38,\n",
       " 39,\n",
       " 20,\n",
       " 29,\n",
       " 40,\n",
       " 32,\n",
       " 28,\n",
       " 27,\n",
       " 42,\n",
       " 49,\n",
       " 38,\n",
       " 24,\n",
       " 27,\n",
       " 36,\n",
       " 34,\n",
       " 28,\n",
       " 45,\n",
       " 26,\n",
       " 32,\n",
       " 26,\n",
       " 20,\n",
       " 54,\n",
       " 37,\n",
       " 40,\n",
       " 23,\n",
       " 43,\n",
       " 36,\n",
       " 44,\n",
       " 24,\n",
       " 53,\n",
       " 23,\n",
       " 26,\n",
       " 30,\n",
       " 31,\n",
       " 42,\n",
       " 31,\n",
       " 41,\n",
       " 32,\n",
       " 28,\n",
       " 41,\n",
       " 26,\n",
       " 25,\n",
       " 33,\n",
       " 75,\n",
       " 37,\n",
       " 42,\n",
       " 45,\n",
       " 23,\n",
       " 60,\n",
       " 31,\n",
       " 34,\n",
       " 61,\n",
       " 43,\n",
       " 37,\n",
       " 32,\n",
       " 24,\n",
       " 35,\n",
       " 23,\n",
       " 45,\n",
       " 34,\n",
       " 27,\n",
       " 67,\n",
       " 22,\n",
       " 28,\n",
       " 29,\n",
       " 27,\n",
       " 31,\n",
       " 49,\n",
       " 24,\n",
       " 29,\n",
       " 37,\n",
       " 37,\n",
       " 23,\n",
       " 36,\n",
       " 34,\n",
       " 41,\n",
       " 31,\n",
       " 23,\n",
       " 38,\n",
       " 26,\n",
       " 22,\n",
       " 27,\n",
       " 24,\n",
       " 27,\n",
       " 33,\n",
       " 27,\n",
       " 27,\n",
       " 30,\n",
       " 49,\n",
       " 26,\n",
       " 33,\n",
       " 52,\n",
       " 20,\n",
       " 36,\n",
       " 21,\n",
       " 47,\n",
       " 60,\n",
       " 58,\n",
       " 42,\n",
       " 36,\n",
       " 20,\n",
       " 40,\n",
       " 32,\n",
       " 23,\n",
       " 36,\n",
       " 31,\n",
       " 32,\n",
       " 45,\n",
       " 30,\n",
       " 34,\n",
       " 28,\n",
       " 23,\n",
       " 22,\n",
       " 74,\n",
       " 50,\n",
       " 33,\n",
       " 45,\n",
       " 22,\n",
       " 48,\n",
       " 29,\n",
       " 22,\n",
       " 22,\n",
       " 48,\n",
       " 27,\n",
       " 37,\n",
       " 21,\n",
       " 49,\n",
       " 27,\n",
       " 32,\n",
       " 38,\n",
       " 22,\n",
       " 65,\n",
       " 35,\n",
       " 41,\n",
       " 29,\n",
       " 36,\n",
       " 64,\n",
       " 28,\n",
       " 44,\n",
       " 23,\n",
       " 19,\n",
       " 25,\n",
       " 47,\n",
       " 28,\n",
       " 21,\n",
       " 34,\n",
       " 26,\n",
       " 27,\n",
       " 38,\n",
       " 40,\n",
       " 33,\n",
       " 32,\n",
       " 27,\n",
       " 32,\n",
       " 26,\n",
       " 38,\n",
       " 40,\n",
       " 50,\n",
       " 37,\n",
       " 45,\n",
       " 42,\n",
       " 35,\n",
       " 22,\n",
       " 41,\n",
       " 37,\n",
       " 28,\n",
       " 41,\n",
       " 23,\n",
       " 23,\n",
       " 50,\n",
       " 35,\n",
       " 50,\n",
       " 27,\n",
       " 34,\n",
       " 27,\n",
       " 43,\n",
       " 47,\n",
       " 27,\n",
       " 31,\n",
       " 42,\n",
       " 24,\n",
       " 41,\n",
       " 26,\n",
       " 33,\n",
       " 24,\n",
       " 64,\n",
       " 26,\n",
       " 56,\n",
       " 37,\n",
       " 33,\n",
       " 47,\n",
       " 31,\n",
       " 34,\n",
       " 27,\n",
       " 30,\n",
       " 35,\n",
       " 31,\n",
       " 25,\n",
       " 25,\n",
       " 29,\n",
       " 44,\n",
       " 28,\n",
       " 50,\n",
       " 29,\n",
       " 38,\n",
       " 24,\n",
       " 40,\n",
       " 29,\n",
       " 46,\n",
       " 47,\n",
       " 41,\n",
       " 32,\n",
       " 35,\n",
       " 24,\n",
       " 25,\n",
       " 25,\n",
       " 37,\n",
       " 32,\n",
       " 35,\n",
       " 46,\n",
       " 25,\n",
       " 27,\n",
       " 63,\n",
       " 40,\n",
       " 32,\n",
       " 31,\n",
       " 31,\n",
       " 34,\n",
       " 24,\n",
       " 24,\n",
       " 66,\n",
       " 21,\n",
       " 41,\n",
       " 47,\n",
       " 25,\n",
       " 59,\n",
       " 36,\n",
       " 33,\n",
       " 21,\n",
       " 44,\n",
       " 28,\n",
       " 37,\n",
       " 29,\n",
       " 23,\n",
       " 35,\n",
       " 45,\n",
       " 26,\n",
       " 32,\n",
       " 23,\n",
       " 41,\n",
       " 22,\n",
       " 30,\n",
       " 28,\n",
       " 23,\n",
       " 37,\n",
       " 26,\n",
       " 33,\n",
       " 49,\n",
       " 23,\n",
       " 23,\n",
       " 25,\n",
       " 55,\n",
       " 32,\n",
       " 74,\n",
       " 39,\n",
       " 31,\n",
       " 35,\n",
       " 59,\n",
       " 24,\n",
       " 24,\n",
       " 30,\n",
       " 27,\n",
       " 40,\n",
       " 31,\n",
       " 31,\n",
       " 28,\n",
       " 63,\n",
       " 26,\n",
       " 25,\n",
       " 36,\n",
       " 52,\n",
       " 66,\n",
       " 25,\n",
       " 37,\n",
       " 25,\n",
       " 38,\n",
       " 67,\n",
       " 25,\n",
       " 60,\n",
       " 31,\n",
       " 23,\n",
       " 60,\n",
       " 35,\n",
       " 40,\n",
       " 38,\n",
       " 50,\n",
       " 27,\n",
       " 39,\n",
       " 41,\n",
       " 27,\n",
       " 51,\n",
       " 32,\n",
       " 22,\n",
       " 51,\n",
       " 22,\n",
       " 54,\n",
       " 35,\n",
       " 54,\n",
       " 48,\n",
       " 24,\n",
       " 35,\n",
       " 24,\n",
       " 24,\n",
       " 26,\n",
       " 65,\n",
       " 55,\n",
       " 26,\n",
       " 26,\n",
       " 28,\n",
       " 24,\n",
       " 54,\n",
       " 46,\n",
       " 54,\n",
       " 62,\n",
       " 24,\n",
       " 43,\n",
       " 26,\n",
       " 27,\n",
       " 24,\n",
       " 41,\n",
       " 47,\n",
       " 35,\n",
       " 30,\n",
       " 33,\n",
       " 36,\n",
       " 47,\n",
       " 38,\n",
       " 44,\n",
       " 23,\n",
       " 29,\n",
       " 42,\n",
       " 25,\n",
       " 48,\n",
       " 21,\n",
       " 23,\n",
       " 63,\n",
       " 46,\n",
       " 29,\n",
       " 28,\n",
       " 23,\n",
       " 50,\n",
       " 47,\n",
       " 35,\n",
       " 68,\n",
       " 28,\n",
       " 59,\n",
       " 57,\n",
       " 33,\n",
       " 43,\n",
       " 35,\n",
       " 32,\n",
       " 45,\n",
       " 33,\n",
       " 40,\n",
       " 28,\n",
       " 29,\n",
       " 26,\n",
       " 27,\n",
       " 28,\n",
       " 35,\n",
       " 32,\n",
       " 25,\n",
       " 20,\n",
       " 27,\n",
       " 42,\n",
       " 37,\n",
       " 24,\n",
       " 40,\n",
       " 46,\n",
       " 26,\n",
       " 24,\n",
       " 29,\n",
       " 40,\n",
       " 36,\n",
       " 28,\n",
       " 27,\n",
       " 36,\n",
       " 38,\n",
       " 48,\n",
       " 36,\n",
       " 65,\n",
       " 43,\n",
       " 53,\n",
       " 34,\n",
       " 23,\n",
       " 34,\n",
       " 40,\n",
       " 43,\n",
       " 46,\n",
       " 38,\n",
       " 34,\n",
       " 29,\n",
       " 31,\n",
       " 28,\n",
       " 35,\n",
       " 33,\n",
       " 42,\n",
       " 43,\n",
       " 44,\n",
       " 42,\n",
       " 40,\n",
       " 36,\n",
       " 20,\n",
       " 24,\n",
       " 27,\n",
       " 46,\n",
       " 33,\n",
       " 34,\n",
       " 25,\n",
       " 25,\n",
       " 28,\n",
       " 31,\n",
       " 32,\n",
       " 32,\n",
       " 68,\n",
       " 33,\n",
       " 39,\n",
       " 28,\n",
       " 37,\n",
       " 22,\n",
       " 30,\n",
       " 55,\n",
       " 46,\n",
       " 21,\n",
       " 39,\n",
       " 58,\n",
       " 43,\n",
       " 24,\n",
       " 22,\n",
       " 30,\n",
       " 42,\n",
       " 23,\n",
       " 30,\n",
       " 28,\n",
       " 30,\n",
       " 42,\n",
       " 46,\n",
       " 45,\n",
       " 31,\n",
       " 31,\n",
       " 42,\n",
       " 46,\n",
       " 30,\n",
       " 30,\n",
       " 38,\n",
       " 43,\n",
       " 31,\n",
       " 40,\n",
       " 24,\n",
       " 28,\n",
       " 26,\n",
       " 29,\n",
       " 57,\n",
       " 49,\n",
       " 37,\n",
       " 45,\n",
       " 30,\n",
       " 30,\n",
       " 47,\n",
       " 29,\n",
       " 35,\n",
       " 22,\n",
       " 26,\n",
       " 23,\n",
       " 54,\n",
       " 29,\n",
       " 40,\n",
       " 22,\n",
       " 43,\n",
       " 29,\n",
       " 36,\n",
       " 33,\n",
       " 57,\n",
       " 64,\n",
       " 42,\n",
       " 47,\n",
       " 25,\n",
       " 49,\n",
       " 33,\n",
       " 28,\n",
       " 26,\n",
       " 30,\n",
       " 25,\n",
       " 33,\n",
       " 64,\n",
       " 29,\n",
       " 48,\n",
       " 37,\n",
       " 34,\n",
       " 23,\n",
       " 30,\n",
       " 50,\n",
       " 31,\n",
       " 40,\n",
       " 38,\n",
       " 23,\n",
       " 27]"
      ]
     },
     "execution_count": 10,
     "metadata": {},
     "output_type": "execute_result"
    }
   ],
   "source": [
    "list(copy.Age)"
   ]
  },
  {
   "cell_type": "markdown",
   "id": "347bcc3f",
   "metadata": {},
   "source": [
    "The age has many unique values, 53. So, we can delete this column in the process the cleaning the data."
   ]
  },
  {
   "cell_type": "code",
   "execution_count": 11,
   "id": "86aa3bc0",
   "metadata": {},
   "outputs": [],
   "source": [
    "copy.drop([\"Age\"], axis=1, inplace=True)"
   ]
  },
  {
   "cell_type": "code",
   "execution_count": 12,
   "id": "afc69911",
   "metadata": {},
   "outputs": [
    {
     "data": {
      "text/html": [
       "<div>\n",
       "<style scoped>\n",
       "    .dataframe tbody tr th:only-of-type {\n",
       "        vertical-align: middle;\n",
       "    }\n",
       "\n",
       "    .dataframe tbody tr th {\n",
       "        vertical-align: top;\n",
       "    }\n",
       "\n",
       "    .dataframe thead th {\n",
       "        text-align: right;\n",
       "    }\n",
       "</style>\n",
       "<table border=\"1\" class=\"dataframe\">\n",
       "  <thead>\n",
       "    <tr style=\"text-align: right;\">\n",
       "      <th></th>\n",
       "      <th>count</th>\n",
       "      <th>unique</th>\n",
       "      <th>top</th>\n",
       "      <th>freq</th>\n",
       "      <th>mean</th>\n",
       "      <th>std</th>\n",
       "      <th>min</th>\n",
       "      <th>25%</th>\n",
       "      <th>50%</th>\n",
       "      <th>75%</th>\n",
       "      <th>max</th>\n",
       "    </tr>\n",
       "  </thead>\n",
       "  <tbody>\n",
       "    <tr>\n",
       "      <th>Sex</th>\n",
       "      <td>1000</td>\n",
       "      <td>2</td>\n",
       "      <td>male</td>\n",
       "      <td>690</td>\n",
       "      <td>NaN</td>\n",
       "      <td>NaN</td>\n",
       "      <td>NaN</td>\n",
       "      <td>NaN</td>\n",
       "      <td>NaN</td>\n",
       "      <td>NaN</td>\n",
       "      <td>NaN</td>\n",
       "    </tr>\n",
       "    <tr>\n",
       "      <th>Job</th>\n",
       "      <td>1000</td>\n",
       "      <td>3</td>\n",
       "      <td>skilled</td>\n",
       "      <td>630</td>\n",
       "      <td>NaN</td>\n",
       "      <td>NaN</td>\n",
       "      <td>NaN</td>\n",
       "      <td>NaN</td>\n",
       "      <td>NaN</td>\n",
       "      <td>NaN</td>\n",
       "      <td>NaN</td>\n",
       "    </tr>\n",
       "    <tr>\n",
       "      <th>Housing</th>\n",
       "      <td>1000</td>\n",
       "      <td>3</td>\n",
       "      <td>own</td>\n",
       "      <td>713</td>\n",
       "      <td>NaN</td>\n",
       "      <td>NaN</td>\n",
       "      <td>NaN</td>\n",
       "      <td>NaN</td>\n",
       "      <td>NaN</td>\n",
       "      <td>NaN</td>\n",
       "      <td>NaN</td>\n",
       "    </tr>\n",
       "    <tr>\n",
       "      <th>Saving accounts</th>\n",
       "      <td>1000</td>\n",
       "      <td>4</td>\n",
       "      <td>little</td>\n",
       "      <td>786</td>\n",
       "      <td>NaN</td>\n",
       "      <td>NaN</td>\n",
       "      <td>NaN</td>\n",
       "      <td>NaN</td>\n",
       "      <td>NaN</td>\n",
       "      <td>NaN</td>\n",
       "      <td>NaN</td>\n",
       "    </tr>\n",
       "    <tr>\n",
       "      <th>Checking account</th>\n",
       "      <td>1000</td>\n",
       "      <td>3</td>\n",
       "      <td>moderate</td>\n",
       "      <td>472</td>\n",
       "      <td>NaN</td>\n",
       "      <td>NaN</td>\n",
       "      <td>NaN</td>\n",
       "      <td>NaN</td>\n",
       "      <td>NaN</td>\n",
       "      <td>NaN</td>\n",
       "      <td>NaN</td>\n",
       "    </tr>\n",
       "    <tr>\n",
       "      <th>Credit amount</th>\n",
       "      <td>1000.0</td>\n",
       "      <td>NaN</td>\n",
       "      <td>NaN</td>\n",
       "      <td>NaN</td>\n",
       "      <td>3271.258</td>\n",
       "      <td>2822.736876</td>\n",
       "      <td>250.0</td>\n",
       "      <td>1365.5</td>\n",
       "      <td>2319.5</td>\n",
       "      <td>3972.25</td>\n",
       "      <td>18424.0</td>\n",
       "    </tr>\n",
       "    <tr>\n",
       "      <th>Duration</th>\n",
       "      <td>1000.0</td>\n",
       "      <td>NaN</td>\n",
       "      <td>NaN</td>\n",
       "      <td>NaN</td>\n",
       "      <td>20.903</td>\n",
       "      <td>12.058814</td>\n",
       "      <td>4.0</td>\n",
       "      <td>12.0</td>\n",
       "      <td>18.0</td>\n",
       "      <td>24.0</td>\n",
       "      <td>72.0</td>\n",
       "    </tr>\n",
       "    <tr>\n",
       "      <th>Risk</th>\n",
       "      <td>1000.0</td>\n",
       "      <td>NaN</td>\n",
       "      <td>NaN</td>\n",
       "      <td>NaN</td>\n",
       "      <td>0.3</td>\n",
       "      <td>0.458487</td>\n",
       "      <td>0.0</td>\n",
       "      <td>0.0</td>\n",
       "      <td>0.0</td>\n",
       "      <td>1.0</td>\n",
       "      <td>1.0</td>\n",
       "    </tr>\n",
       "    <tr>\n",
       "      <th>Purpose</th>\n",
       "      <td>1000</td>\n",
       "      <td>8</td>\n",
       "      <td>car</td>\n",
       "      <td>337</td>\n",
       "      <td>NaN</td>\n",
       "      <td>NaN</td>\n",
       "      <td>NaN</td>\n",
       "      <td>NaN</td>\n",
       "      <td>NaN</td>\n",
       "      <td>NaN</td>\n",
       "      <td>NaN</td>\n",
       "    </tr>\n",
       "  </tbody>\n",
       "</table>\n",
       "</div>"
      ],
      "text/plain": [
       "                   count unique       top freq      mean          std    min  \\\n",
       "Sex                 1000      2      male  690       NaN          NaN    NaN   \n",
       "Job                 1000      3   skilled  630       NaN          NaN    NaN   \n",
       "Housing             1000      3       own  713       NaN          NaN    NaN   \n",
       "Saving accounts     1000      4    little  786       NaN          NaN    NaN   \n",
       "Checking account    1000      3  moderate  472       NaN          NaN    NaN   \n",
       "Credit amount     1000.0    NaN       NaN  NaN  3271.258  2822.736876  250.0   \n",
       "Duration          1000.0    NaN       NaN  NaN    20.903    12.058814    4.0   \n",
       "Risk              1000.0    NaN       NaN  NaN       0.3     0.458487    0.0   \n",
       "Purpose             1000      8       car  337       NaN          NaN    NaN   \n",
       "\n",
       "                     25%     50%      75%      max  \n",
       "Sex                  NaN     NaN      NaN      NaN  \n",
       "Job                  NaN     NaN      NaN      NaN  \n",
       "Housing              NaN     NaN      NaN      NaN  \n",
       "Saving accounts      NaN     NaN      NaN      NaN  \n",
       "Checking account     NaN     NaN      NaN      NaN  \n",
       "Credit amount     1365.5  2319.5  3972.25  18424.0  \n",
       "Duration            12.0    18.0     24.0     72.0  \n",
       "Risk                 0.0     0.0      1.0      1.0  \n",
       "Purpose              NaN     NaN      NaN      NaN  "
      ]
     },
     "execution_count": 12,
     "metadata": {},
     "output_type": "execute_result"
    }
   ],
   "source": [
    "copy.describe(include='all').T"
   ]
  },
  {
   "cell_type": "markdown",
   "id": "45a5c2c5",
   "metadata": {},
   "source": [
    "The data after we deleted Age column."
   ]
  },
  {
   "cell_type": "markdown",
   "id": "21ee8b89",
   "metadata": {},
   "source": [
    "## checking missing values"
   ]
  },
  {
   "cell_type": "code",
   "execution_count": 13,
   "id": "a7f96fe0",
   "metadata": {},
   "outputs": [
    {
     "data": {
      "text/plain": [
       "Sex                 0\n",
       "Job                 0\n",
       "Housing             0\n",
       "Saving accounts     0\n",
       "Checking account    0\n",
       "Credit amount       0\n",
       "Duration            0\n",
       "Risk                0\n",
       "Purpose             0\n",
       "dtype: int64"
      ]
     },
     "execution_count": 13,
     "metadata": {},
     "output_type": "execute_result"
    }
   ],
   "source": [
    "copy.isnull().sum()"
   ]
  },
  {
   "cell_type": "markdown",
   "id": "2901bb61",
   "metadata": {},
   "source": [
    "We can see there are no missing values in our dataset."
   ]
  },
  {
   "cell_type": "markdown",
   "id": "62672ba0",
   "metadata": {},
   "source": [
    "# EDA"
   ]
  },
  {
   "cell_type": "markdown",
   "id": "85d387cc",
   "metadata": {},
   "source": [
    "## Univariant Analysis"
   ]
  },
  {
   "cell_type": "code",
   "execution_count": 14,
   "id": "7bb57163",
   "metadata": {},
   "outputs": [],
   "source": [
    "# function to create labeled barplots\n",
    "\n",
    "\n",
    "def labeled_barplot(data, feature, perc=False, n=None):\n",
    "    \"\"\"\n",
    "    Barplot with percentage at the top\n",
    "\n",
    "    data: dataframe\n",
    "    feature: dataframe column\n",
    "    perc: whether to display percentages instead of count (default is False)\n",
    "    n: displays the top n category levels (default is None, i.e., display all levels)\n",
    "    \"\"\"\n",
    "\n",
    "    total = len(data[feature])  # length of the column\n",
    "    count = data[feature].nunique()\n",
    "    if n is None:\n",
    "        plt.figure(figsize=(count + 2, 6))\n",
    "    else:\n",
    "        plt.figure(figsize=(n + 2, 6))\n",
    "\n",
    "    plt.xticks(rotation=90, fontsize=15)\n",
    "    ax = sns.countplot(\n",
    "        data=data,\n",
    "        x=feature,\n",
    "        palette=\"Paired\",\n",
    "        order=data[feature].value_counts().index[:n].sort_values(),\n",
    "    )\n",
    "\n",
    "    for p in ax.patches:\n",
    "        if perc == True:\n",
    "            label = \"{:.1f}%\".format(\n",
    "                100 * p.get_height() / total\n",
    "            )  # percentage of each class of the category\n",
    "        else:\n",
    "            label = p.get_height()  # count of each level of the category\n",
    "\n",
    "        x = p.get_x() + p.get_width() / 2  # width of the plot\n",
    "        y = p.get_height()  # height of the plot\n",
    "\n",
    "        ax.annotate(\n",
    "            label,\n",
    "            (x, y),\n",
    "            ha=\"center\",\n",
    "            va=\"center\",\n",
    "            size=12,\n",
    "            xytext=(0, 5),\n",
    "            textcoords=\"offset points\",\n",
    "        )  # annotate the percentage\n",
    "\n",
    "    plt.show()  # show the plot"
   ]
  },
  {
   "cell_type": "markdown",
   "id": "580a202b",
   "metadata": {},
   "source": [
    "### Sex of the applicants"
   ]
  },
  {
   "cell_type": "code",
   "execution_count": 15,
   "id": "e46da79f",
   "metadata": {},
   "outputs": [
    {
     "data": {
      "image/png": "[encoded data removed]",
      "text/plain": [
       "<Figure size 288x432 with 1 Axes>"
      ]
     },
     "metadata": {
      "needs_background": "light"
     },
     "output_type": "display_data"
    }
   ],
   "source": [
    "labeled_barplot(copy,'Sex',perc=True)"
   ]
  },
  {
   "cell_type": "markdown",
   "id": "9e00ab56",
   "metadata": {},
   "source": [
    "#### Observations:\n",
    "- There are max number of male applicants with 69%.\n",
    "- There are only 31% of female applicants for credit."
   ]
  },
  {
   "cell_type": "markdown",
   "id": "dc4bac18",
   "metadata": {},
   "source": [
    "### Job of the applicants"
   ]
  },
  {
   "cell_type": "code",
   "execution_count": 16,
   "id": "bbdb73a9",
   "metadata": {},
   "outputs": [
    {
     "data": {
      "image/png": "[encoded data removed]",
      "text/plain": [
       "<Figure size 360x432 with 1 Axes>"
      ]
     },
     "metadata": {
      "needs_background": "light"
     },
     "output_type": "display_data"
    }
   ],
   "source": [
    "labeled_barplot(copy,'Job',perc=True)"
   ]
  },
  {
   "cell_type": "markdown",
   "id": "c4aff867",
   "metadata": {},
   "source": [
    "#### Observations:\n",
    "- There are max people who applied for credit in the bank are skilled with 63%.\n",
    "- Only 22.2% of Unskilled and non resident people applied for credits.\n",
    "- Least percentage of people applied belongs to highly skilled sector with only 14.8%. \n",
    "It is common sense that highlyskilled people can get good paid jobs and might not be in need for any financial help so they need not take any credits from bank."
   ]
  },
  {
   "cell_type": "markdown",
   "id": "a6b4f0f4",
   "metadata": {},
   "source": [
    "### Housing"
   ]
  },
  {
   "cell_type": "code",
   "execution_count": 17,
   "id": "6a8bdd38",
   "metadata": {},
   "outputs": [
    {
     "data": {
      "image/png": "[encoded data removed]",
      "text/plain": [
       "<Figure size 360x432 with 1 Axes>"
      ]
     },
     "metadata": {
      "needs_background": "light"
     },
     "output_type": "display_data"
    }
   ],
   "source": [
    "labeled_barplot(copy,'Housing',perc=True)"
   ]
  },
  {
   "cell_type": "markdown",
   "id": "3ce14a2b",
   "metadata": {},
   "source": [
    "#### Observations:\n",
    "- Most no. of people applied for taking credits from bank are owning a house.(71.3%)\n",
    "- 17.9% applicants are staying in a rented house.\n",
    "- Remaining 10.8% people are living for free."
   ]
  },
  {
   "cell_type": "markdown",
   "id": "3358fcf9",
   "metadata": {},
   "source": [
    "### Savings Account"
   ]
  },
  {
   "cell_type": "code",
   "execution_count": 18,
   "id": "21222ce5",
   "metadata": {},
   "outputs": [
    {
     "data": {
      "image/png": "[encoded data removed]",
      "text/plain": [
       "<Figure size 432x432 with 1 Axes>"
      ]
     },
     "metadata": {
      "needs_background": "light"
     },
     "output_type": "display_data"
    }
   ],
   "source": [
    "labeled_barplot(copy,'Saving accounts',perc=True)"
   ]
  },
  {
   "cell_type": "markdown",
   "id": "642f6a23",
   "metadata": {},
   "source": [
    "#### Observations:\n",
    "- Most portion of people, 78.6% applied for credits have a very little amount of money in their savings accounts. Hence they might need some financial help from banks.\n",
    "- Next comes moderate amount in savings account people with 10.3%.\n",
    "- quite rich people applicants are 6.3% of total applications.\n",
    "- The lease are rich people who have more account balances."
   ]
  },
  {
   "cell_type": "markdown",
   "id": "748a0422",
   "metadata": {},
   "source": [
    "### Checking account"
   ]
  },
  {
   "cell_type": "code",
   "execution_count": 19,
   "id": "d13dc0ba",
   "metadata": {},
   "outputs": [
    {
     "data": {
      "image/png": "[encoded data removed]",
      "text/plain": [
       "<Figure size 360x432 with 1 Axes>"
      ]
     },
     "metadata": {
      "needs_background": "light"
     },
     "output_type": "display_data"
    }
   ],
   "source": [
    "labeled_barplot(copy,'Checking account',perc=True)"
   ]
  },
  {
   "cell_type": "markdown",
   "id": "ce4b4a27",
   "metadata": {},
   "source": [
    "#### Observations:\n",
    "- There are 47.2%, highest, of moderate amount in their checking accounts who applied for credits.\n",
    "- 46.5% of applicants have little amount in their checkings account.\n",
    "- Only 6.3% are rich."
   ]
  },
  {
   "cell_type": "markdown",
   "id": "68a90736",
   "metadata": {},
   "source": [
    "### Duration"
   ]
  },
  {
   "cell_type": "code",
   "execution_count": 20,
   "id": "1bade8f4",
   "metadata": {},
   "outputs": [
    {
     "data": {
      "image/png": "[encoded data removed]",
      "text/plain": [
       "<Figure size 2520x432 with 1 Axes>"
      ]
     },
     "metadata": {
      "needs_background": "light"
     },
     "output_type": "display_data"
    }
   ],
   "source": [
    "labeled_barplot(copy,'Duration',perc=True)"
   ]
  },
  {
   "cell_type": "markdown",
   "id": "0fbd7f6d",
   "metadata": {},
   "source": [
    "#### Observations:\n",
    "- The durations for loans applied started with min 4 months - 72 months.\n",
    "- Most people applied for 24 months i.e., 18.4%.\n",
    "- next most frequently applied durations is 12 months wih 17.9%.\n",
    "- Lease portion of people, 0.1% of applicants have applied for 5, 26, 40, 47 and 72 months."
   ]
  },
  {
   "cell_type": "markdown",
   "id": "98be5e9c",
   "metadata": {},
   "source": [
    "### Risk"
   ]
  },
  {
   "cell_type": "code",
   "execution_count": 21,
   "id": "b755b4ca",
   "metadata": {},
   "outputs": [
    {
     "data": {
      "image/png": "[encoded data removed]",
      "text/plain": [
       "<Figure size 288x432 with 1 Axes>"
      ]
     },
     "metadata": {
      "needs_background": "light"
     },
     "output_type": "display_data"
    }
   ],
   "source": [
    "labeled_barplot(copy,'Risk',perc=True)"
   ]
  },
  {
   "cell_type": "markdown",
   "id": "db09d02d",
   "metadata": {},
   "source": [
    "#### Observations:\n",
    "- There are most applicants, 70% who are allerted as non-risk right now.\n",
    "- only 30% of people are alerted as risk."
   ]
  },
  {
   "cell_type": "markdown",
   "id": "54018b5e",
   "metadata": {},
   "source": [
    "### Purpose"
   ]
  },
  {
   "cell_type": "code",
   "execution_count": 22,
   "id": "4296d7ae",
   "metadata": {},
   "outputs": [
    {
     "data": {
      "image/png": "[encoded data removed]",
      "text/plain": [
       "<Figure size 720x432 with 1 Axes>"
      ]
     },
     "metadata": {
      "needs_background": "light"
     },
     "output_type": "display_data"
    }
   ],
   "source": [
    "labeled_barplot(copy,'Purpose',perc=True)"
   ]
  },
  {
   "cell_type": "markdown",
   "id": "9ac8adc6",
   "metadata": {},
   "source": [
    "#### Observations:\n",
    "- Most people are applying for credits from bank is to buy a car - 33.7%.\n",
    "- Next highest rated purpose for people to take credits will be to buy a Radio/TV with 28%.\n",
    "- Lease portion of people are applying for creits to buy domestic appliances and for vacations/others with 1.2%.\n",
    "Remaining purposes like business, education, furniture/equipment and repairs are in between these highest and lowest rated purposes."
   ]
  },
  {
   "cell_type": "markdown",
   "id": "025045f1",
   "metadata": {},
   "source": [
    "## Bivariante Analysis"
   ]
  },
  {
   "cell_type": "code",
   "execution_count": 23,
   "id": "2ae38bbc",
   "metadata": {},
   "outputs": [],
   "source": [
    "# function to plot stacked bar chart\n",
    "\n",
    "\n",
    "def stacked_barplot(data, predictor, target):\n",
    "    \"\"\"\n",
    "    Print the category counts and plot a stacked bar chart\n",
    "\n",
    "    data: dataframe\n",
    "    predictor: independent variable\n",
    "    target: target variable\n",
    "    \"\"\"\n",
    "    count = data[predictor].nunique()\n",
    "    sorter = data[target].value_counts().index[-1]\n",
    "    tab1 = pd.crosstab(data[predictor], data[target], margins=True).sort_values(\n",
    "        by=sorter, ascending=False\n",
    "    )\n",
    "    print(tab1)\n",
    "    print(\"-\" * 120)\n",
    "    tab = pd.crosstab(data[predictor], data[target], normalize=\"index\").sort_values(\n",
    "        by=sorter, ascending=False\n",
    "    )\n",
    "    tab.plot(kind=\"bar\", stacked=True, figsize=(count + 5, 6))\n",
    "    plt.legend(\n",
    "        loc=\"lower left\",\n",
    "        frameon=False,\n",
    "    )\n",
    "    plt.legend(loc=\"upper left\", bbox_to_anchor=(1, 1))\n",
    "    plt.show()"
   ]
  },
  {
   "cell_type": "markdown",
   "id": "7e45c9f0",
   "metadata": {},
   "source": [
    "### RISK Vs SEX"
   ]
  },
  {
   "cell_type": "code",
   "execution_count": 24,
   "id": "04cf9eb4",
   "metadata": {},
   "outputs": [
    {
     "name": "stdout",
     "output_type": "stream",
     "text": [
      "Risk      0    1   All\n",
      "Sex                   \n",
      "All     700  300  1000\n",
      "male    499  191   690\n",
      "female  201  109   310\n",
      "------------------------------------------------------------------------------------------------------------------------\n"
     ]
    },
    {
     "data": {
      "image/png": "[encoded data removed]",
      "text/plain": [
       "<Figure size 504x432 with 1 Axes>"
      ]
     },
     "metadata": {
      "needs_background": "light"
     },
     "output_type": "display_data"
    }
   ],
   "source": [
    "stacked_barplot(copy, \"Sex\", \"Risk\")"
   ]
  },
  {
   "cell_type": "markdown",
   "id": "6fae7efb",
   "metadata": {},
   "source": [
    "#### Observations:\n",
    "- From initial analysis we can see that there are more female applicants who are classified as Risk than male applicants."
   ]
  },
  {
   "cell_type": "markdown",
   "id": "99977a6e",
   "metadata": {},
   "source": [
    "### RISK Vs JOB"
   ]
  },
  {
   "cell_type": "code",
   "execution_count": 25,
   "id": "3c15cd98",
   "metadata": {},
   "outputs": [
    {
     "name": "stdout",
     "output_type": "stream",
     "text": [
      "Risk                          0    1   All\n",
      "Job                                       \n",
      "All                         700  300  1000\n",
      "skilled                     444  186   630\n",
      "unskilled_and_non-resident  159   63   222\n",
      "highly skilled               97   51   148\n",
      "------------------------------------------------------------------------------------------------------------------------\n"
     ]
    },
    {
     "data": {
      "image/png": "[encoded data removed]",
      "text/plain": [
       "<Figure size 576x432 with 1 Axes>"
      ]
     },
     "metadata": {
      "needs_background": "light"
     },
     "output_type": "display_data"
    }
   ],
   "source": [
    "stacked_barplot(copy, \"Job\", \"Risk\")"
   ]
  },
  {
   "cell_type": "markdown",
   "id": "2e3c482d",
   "metadata": {},
   "source": [
    "#### Observations:\n",
    "- We can observe there are more highly skilled people who are classfied as RISK.\n",
    "- Least applicants classified as RISK are unskilled and non resident.\n",
    "- even though more applicants are skilled, the portion of them classified as RISK is less comparative with highly skilled people."
   ]
  },
  {
   "cell_type": "markdown",
   "id": "289ac00f",
   "metadata": {},
   "source": [
    "### RISK Vs HOUSING"
   ]
  },
  {
   "cell_type": "code",
   "execution_count": 26,
   "id": "5c430322",
   "metadata": {},
   "outputs": [
    {
     "name": "stdout",
     "output_type": "stream",
     "text": [
      "Risk       0    1   All\n",
      "Housing                \n",
      "All      700  300  1000\n",
      "own      527  186   713\n",
      "rent     109   70   179\n",
      "free      64   44   108\n",
      "------------------------------------------------------------------------------------------------------------------------\n"
     ]
    },
    {
     "data": {
      "image/png": "[encoded data removed]",
      "text/plain": [
       "<Figure size 576x432 with 1 Axes>"
      ]
     },
     "metadata": {
      "needs_background": "light"
     },
     "output_type": "display_data"
    }
   ],
   "source": [
    "stacked_barplot(copy, \"Housing\", \"Risk\")"
   ]
  },
  {
   "cell_type": "markdown",
   "id": "4a8466cf",
   "metadata": {},
   "source": [
    "#### Observations:\n",
    "- There are more people who are living for free are said to be more risky to give credit to than people who own a house or who are living in a rented place.\n",
    "- Least people who own a house are classified as risk as they can repay the money to bank using their house by keeping mortgage."
   ]
  },
  {
   "cell_type": "markdown",
   "id": "c5c01876",
   "metadata": {},
   "source": [
    "### RISK Vs SAVINGS ACCOUNT"
   ]
  },
  {
   "cell_type": "code",
   "execution_count": 27,
   "id": "ec6f8e8c",
   "metadata": {},
   "outputs": [
    {
     "name": "stdout",
     "output_type": "stream",
     "text": [
      "Risk               0    1   All\n",
      "Saving accounts                \n",
      "All              700  300  1000\n",
      "little           537  249   786\n",
      "moderate          69   34   103\n",
      "quite rich        52   11    63\n",
      "rich              42    6    48\n",
      "------------------------------------------------------------------------------------------------------------------------\n"
     ]
    },
    {
     "data": {
      "image/png": "[encoded data removed]",
      "text/plain": [
       "<Figure size 648x432 with 1 Axes>"
      ]
     },
     "metadata": {
      "needs_background": "light"
     },
     "output_type": "display_data"
    }
   ],
   "source": [
    "stacked_barplot(copy, \"Saving accounts\", \"Risk\")"
   ]
  },
  {
   "cell_type": "markdown",
   "id": "c4caf4ab",
   "metadata": {},
   "source": [
    "#### Observations:\n",
    "- People with more money in their savings accounts are considered to be least risky.\n",
    "- People who have moderate amount in their savings accounts are most risk.\n",
    "- People who are rich can repay their loans on time so there are classified as risk.\n"
   ]
  },
  {
   "cell_type": "markdown",
   "id": "9ede041b",
   "metadata": {},
   "source": [
    "### RISK Vs CHECKING ACCOUNTS"
   ]
  },
  {
   "cell_type": "code",
   "execution_count": 28,
   "id": "4611a49d",
   "metadata": {},
   "outputs": [
    {
     "name": "stdout",
     "output_type": "stream",
     "text": [
      "Risk                0    1   All\n",
      "Checking account                \n",
      "All               700  300  1000\n",
      "little            304  161   465\n",
      "moderate          347  125   472\n",
      "rich               49   14    63\n",
      "------------------------------------------------------------------------------------------------------------------------\n"
     ]
    },
    {
     "data": {
      "image/png": "[encoded data removed]",
      "text/plain": [
       "<Figure size 576x432 with 1 Axes>"
      ]
     },
     "metadata": {
      "needs_background": "light"
     },
     "output_type": "display_data"
    }
   ],
   "source": [
    "stacked_barplot(copy, \"Checking account\", \"Risk\")"
   ]
  },
  {
   "cell_type": "markdown",
   "id": "51e63ec0",
   "metadata": {},
   "source": [
    "#### Observations:\n",
    "- People who have little amount in their checking accounts are most risk to banks as they might be able to repay their loans and bank's resources might be wasted.\n",
    "- Same as in savings account, people who are rich can repay their loans easily to banks so are considered as least risky."
   ]
  },
  {
   "cell_type": "code",
   "execution_count": 29,
   "id": "72a7c692",
   "metadata": {},
   "outputs": [],
   "source": [
    "### Function to plot boxplot\n",
    "def boxplot(x):\n",
    "    plt.figure(figsize=(10,7))\n",
    "    sns.boxplot(data=copy, x=\"Risk\",y=copy[x],palette=\"PuBu\")\n",
    "    plt.show()"
   ]
  },
  {
   "cell_type": "markdown",
   "id": "840b8846",
   "metadata": {},
   "source": [
    "### RISK Vs CREDIT AMOUNT"
   ]
  },
  {
   "cell_type": "code",
   "execution_count": 30,
   "id": "b01e72ed",
   "metadata": {},
   "outputs": [
    {
     "data": {
      "image/png": "[encoded data removed]",
      "text/plain": [
       "<Figure size 720x504 with 1 Axes>"
      ]
     },
     "metadata": {
      "needs_background": "light"
     },
     "output_type": "display_data"
    }
   ],
   "source": [
    "boxplot('Credit amount')"
   ]
  },
  {
   "cell_type": "markdown",
   "id": "148735dc",
   "metadata": {},
   "source": [
    "#### Observations:\n",
    "- People who take more credit amount as loan are most likely to default to repay so are classified as Risk."
   ]
  },
  {
   "cell_type": "markdown",
   "id": "78ce0b43",
   "metadata": {},
   "source": [
    "### RISK Vs DURATION"
   ]
  },
  {
   "cell_type": "code",
   "execution_count": 31,
   "id": "9c641df0",
   "metadata": {},
   "outputs": [
    {
     "data": {
      "image/png": "[encoded data removed]",
      "text/plain": [
       "<Figure size 720x504 with 1 Axes>"
      ]
     },
     "metadata": {
      "needs_background": "light"
     },
     "output_type": "display_data"
    }
   ],
   "source": [
    "boxplot('Duration')"
   ]
  },
  {
   "cell_type": "markdown",
   "id": "8a3b5e33",
   "metadata": {},
   "source": [
    "#### Observations:\n",
    "- People who take loans for more months are tend to be more risky than people who take a short term loan."
   ]
  },
  {
   "cell_type": "markdown",
   "id": "e6c9baa3",
   "metadata": {},
   "source": [
    "## Correlation"
   ]
  },
  {
   "cell_type": "code",
   "execution_count": 32,
   "id": "175dea61",
   "metadata": {},
   "outputs": [
    {
     "data": {
      "image/png": "[encoded data removed]",
      "text/plain": [
       "<Figure size 1080x504 with 2 Axes>"
      ]
     },
     "metadata": {
      "needs_background": "light"
     },
     "output_type": "display_data"
    }
   ],
   "source": [
    "plt.figure(figsize=(15,7))\n",
    "sns.heatmap(copy.corr(),annot=True,vmin=-1,vmax=1,cmap=\"Spectral\")\n",
    "plt.show()"
   ]
  },
  {
   "cell_type": "markdown",
   "id": "bd17b7b7",
   "metadata": {},
   "source": [
    "## Missing value Treatment"
   ]
  },
  {
   "cell_type": "code",
   "execution_count": 33,
   "id": "9f926cf6",
   "metadata": {},
   "outputs": [
    {
     "data": {
      "text/plain": [
       "Sex                   0\n",
       "Job                   0\n",
       "Housing               0\n",
       "Saving accounts       0\n",
       "Checking account      0\n",
       "Credit amount         0\n",
       "Duration              0\n",
       "Risk                700\n",
       "Purpose               0\n",
       "dtype: int64"
      ]
     },
     "execution_count": 33,
     "metadata": {},
     "output_type": "execute_result"
    }
   ],
   "source": [
    "# Checking which columns have zero values\n",
    "(copy == 0).sum()"
   ]
  },
  {
   "cell_type": "markdown",
   "id": "4273e4dd",
   "metadata": {},
   "source": [
    "There can be 0's in Risk as it binary, But there are any 0's or missing values in any other columns. So no need for any other action."
   ]
  },
  {
   "cell_type": "markdown",
   "id": "7ad71588",
   "metadata": {},
   "source": [
    "## Creating dummy variables"
   ]
  },
  {
   "cell_type": "code",
   "execution_count": 34,
   "id": "d57966af",
   "metadata": {},
   "outputs": [],
   "source": [
    "copy = pd.get_dummies(copy)"
   ]
  },
  {
   "cell_type": "code",
   "execution_count": 35,
   "id": "26c60e4d",
   "metadata": {},
   "outputs": [
    {
     "data": {
      "text/html": [
       "<div>\n",
       "<style scoped>\n",
       "    .dataframe tbody tr th:only-of-type {\n",
       "        vertical-align: middle;\n",
       "    }\n",
       "\n",
       "    .dataframe tbody tr th {\n",
       "        vertical-align: top;\n",
       "    }\n",
       "\n",
       "    .dataframe thead th {\n",
       "        text-align: right;\n",
       "    }\n",
       "</style>\n",
       "<table border=\"1\" class=\"dataframe\">\n",
       "  <thead>\n",
       "    <tr style=\"text-align: right;\">\n",
       "      <th></th>\n",
       "      <th>count</th>\n",
       "      <th>mean</th>\n",
       "      <th>std</th>\n",
       "      <th>min</th>\n",
       "      <th>25%</th>\n",
       "      <th>50%</th>\n",
       "      <th>75%</th>\n",
       "      <th>max</th>\n",
       "    </tr>\n",
       "  </thead>\n",
       "  <tbody>\n",
       "    <tr>\n",
       "      <th>Credit amount</th>\n",
       "      <td>1000.0</td>\n",
       "      <td>3271.258</td>\n",
       "      <td>2822.736876</td>\n",
       "      <td>250.0</td>\n",
       "      <td>1365.5</td>\n",
       "      <td>2319.5</td>\n",
       "      <td>3972.25</td>\n",
       "      <td>18424.0</td>\n",
       "    </tr>\n",
       "    <tr>\n",
       "      <th>Duration</th>\n",
       "      <td>1000.0</td>\n",
       "      <td>20.903</td>\n",
       "      <td>12.058814</td>\n",
       "      <td>4.0</td>\n",
       "      <td>12.0</td>\n",
       "      <td>18.0</td>\n",
       "      <td>24.00</td>\n",
       "      <td>72.0</td>\n",
       "    </tr>\n",
       "    <tr>\n",
       "      <th>Risk</th>\n",
       "      <td>1000.0</td>\n",
       "      <td>0.300</td>\n",
       "      <td>0.458487</td>\n",
       "      <td>0.0</td>\n",
       "      <td>0.0</td>\n",
       "      <td>0.0</td>\n",
       "      <td>1.00</td>\n",
       "      <td>1.0</td>\n",
       "    </tr>\n",
       "    <tr>\n",
       "      <th>Sex_female</th>\n",
       "      <td>1000.0</td>\n",
       "      <td>0.310</td>\n",
       "      <td>0.462725</td>\n",
       "      <td>0.0</td>\n",
       "      <td>0.0</td>\n",
       "      <td>0.0</td>\n",
       "      <td>1.00</td>\n",
       "      <td>1.0</td>\n",
       "    </tr>\n",
       "    <tr>\n",
       "      <th>Sex_male</th>\n",
       "      <td>1000.0</td>\n",
       "      <td>0.690</td>\n",
       "      <td>0.462725</td>\n",
       "      <td>0.0</td>\n",
       "      <td>0.0</td>\n",
       "      <td>1.0</td>\n",
       "      <td>1.00</td>\n",
       "      <td>1.0</td>\n",
       "    </tr>\n",
       "    <tr>\n",
       "      <th>Job_highly skilled</th>\n",
       "      <td>1000.0</td>\n",
       "      <td>0.148</td>\n",
       "      <td>0.355278</td>\n",
       "      <td>0.0</td>\n",
       "      <td>0.0</td>\n",
       "      <td>0.0</td>\n",
       "      <td>0.00</td>\n",
       "      <td>1.0</td>\n",
       "    </tr>\n",
       "    <tr>\n",
       "      <th>Job_skilled</th>\n",
       "      <td>1000.0</td>\n",
       "      <td>0.630</td>\n",
       "      <td>0.483046</td>\n",
       "      <td>0.0</td>\n",
       "      <td>0.0</td>\n",
       "      <td>1.0</td>\n",
       "      <td>1.00</td>\n",
       "      <td>1.0</td>\n",
       "    </tr>\n",
       "    <tr>\n",
       "      <th>Job_unskilled_and_non-resident</th>\n",
       "      <td>1000.0</td>\n",
       "      <td>0.222</td>\n",
       "      <td>0.415799</td>\n",
       "      <td>0.0</td>\n",
       "      <td>0.0</td>\n",
       "      <td>0.0</td>\n",
       "      <td>0.00</td>\n",
       "      <td>1.0</td>\n",
       "    </tr>\n",
       "    <tr>\n",
       "      <th>Housing_free</th>\n",
       "      <td>1000.0</td>\n",
       "      <td>0.108</td>\n",
       "      <td>0.310536</td>\n",
       "      <td>0.0</td>\n",
       "      <td>0.0</td>\n",
       "      <td>0.0</td>\n",
       "      <td>0.00</td>\n",
       "      <td>1.0</td>\n",
       "    </tr>\n",
       "    <tr>\n",
       "      <th>Housing_own</th>\n",
       "      <td>1000.0</td>\n",
       "      <td>0.713</td>\n",
       "      <td>0.452588</td>\n",
       "      <td>0.0</td>\n",
       "      <td>0.0</td>\n",
       "      <td>1.0</td>\n",
       "      <td>1.00</td>\n",
       "      <td>1.0</td>\n",
       "    </tr>\n",
       "    <tr>\n",
       "      <th>Housing_rent</th>\n",
       "      <td>1000.0</td>\n",
       "      <td>0.179</td>\n",
       "      <td>0.383544</td>\n",
       "      <td>0.0</td>\n",
       "      <td>0.0</td>\n",
       "      <td>0.0</td>\n",
       "      <td>0.00</td>\n",
       "      <td>1.0</td>\n",
       "    </tr>\n",
       "    <tr>\n",
       "      <th>Saving accounts_little</th>\n",
       "      <td>1000.0</td>\n",
       "      <td>0.786</td>\n",
       "      <td>0.410332</td>\n",
       "      <td>0.0</td>\n",
       "      <td>1.0</td>\n",
       "      <td>1.0</td>\n",
       "      <td>1.00</td>\n",
       "      <td>1.0</td>\n",
       "    </tr>\n",
       "    <tr>\n",
       "      <th>Saving accounts_moderate</th>\n",
       "      <td>1000.0</td>\n",
       "      <td>0.103</td>\n",
       "      <td>0.304111</td>\n",
       "      <td>0.0</td>\n",
       "      <td>0.0</td>\n",
       "      <td>0.0</td>\n",
       "      <td>0.00</td>\n",
       "      <td>1.0</td>\n",
       "    </tr>\n",
       "    <tr>\n",
       "      <th>Saving accounts_quite rich</th>\n",
       "      <td>1000.0</td>\n",
       "      <td>0.063</td>\n",
       "      <td>0.243085</td>\n",
       "      <td>0.0</td>\n",
       "      <td>0.0</td>\n",
       "      <td>0.0</td>\n",
       "      <td>0.00</td>\n",
       "      <td>1.0</td>\n",
       "    </tr>\n",
       "    <tr>\n",
       "      <th>Saving accounts_rich</th>\n",
       "      <td>1000.0</td>\n",
       "      <td>0.048</td>\n",
       "      <td>0.213873</td>\n",
       "      <td>0.0</td>\n",
       "      <td>0.0</td>\n",
       "      <td>0.0</td>\n",
       "      <td>0.00</td>\n",
       "      <td>1.0</td>\n",
       "    </tr>\n",
       "    <tr>\n",
       "      <th>Checking account_little</th>\n",
       "      <td>1000.0</td>\n",
       "      <td>0.465</td>\n",
       "      <td>0.499023</td>\n",
       "      <td>0.0</td>\n",
       "      <td>0.0</td>\n",
       "      <td>0.0</td>\n",
       "      <td>1.00</td>\n",
       "      <td>1.0</td>\n",
       "    </tr>\n",
       "    <tr>\n",
       "      <th>Checking account_moderate</th>\n",
       "      <td>1000.0</td>\n",
       "      <td>0.472</td>\n",
       "      <td>0.499465</td>\n",
       "      <td>0.0</td>\n",
       "      <td>0.0</td>\n",
       "      <td>0.0</td>\n",
       "      <td>1.00</td>\n",
       "      <td>1.0</td>\n",
       "    </tr>\n",
       "    <tr>\n",
       "      <th>Checking account_rich</th>\n",
       "      <td>1000.0</td>\n",
       "      <td>0.063</td>\n",
       "      <td>0.243085</td>\n",
       "      <td>0.0</td>\n",
       "      <td>0.0</td>\n",
       "      <td>0.0</td>\n",
       "      <td>0.00</td>\n",
       "      <td>1.0</td>\n",
       "    </tr>\n",
       "    <tr>\n",
       "      <th>Purpose_business</th>\n",
       "      <td>1000.0</td>\n",
       "      <td>0.097</td>\n",
       "      <td>0.296106</td>\n",
       "      <td>0.0</td>\n",
       "      <td>0.0</td>\n",
       "      <td>0.0</td>\n",
       "      <td>0.00</td>\n",
       "      <td>1.0</td>\n",
       "    </tr>\n",
       "    <tr>\n",
       "      <th>Purpose_car</th>\n",
       "      <td>1000.0</td>\n",
       "      <td>0.337</td>\n",
       "      <td>0.472921</td>\n",
       "      <td>0.0</td>\n",
       "      <td>0.0</td>\n",
       "      <td>0.0</td>\n",
       "      <td>1.00</td>\n",
       "      <td>1.0</td>\n",
       "    </tr>\n",
       "    <tr>\n",
       "      <th>Purpose_domestic appliances</th>\n",
       "      <td>1000.0</td>\n",
       "      <td>0.012</td>\n",
       "      <td>0.108940</td>\n",
       "      <td>0.0</td>\n",
       "      <td>0.0</td>\n",
       "      <td>0.0</td>\n",
       "      <td>0.00</td>\n",
       "      <td>1.0</td>\n",
       "    </tr>\n",
       "    <tr>\n",
       "      <th>Purpose_education</th>\n",
       "      <td>1000.0</td>\n",
       "      <td>0.059</td>\n",
       "      <td>0.235743</td>\n",
       "      <td>0.0</td>\n",
       "      <td>0.0</td>\n",
       "      <td>0.0</td>\n",
       "      <td>0.00</td>\n",
       "      <td>1.0</td>\n",
       "    </tr>\n",
       "    <tr>\n",
       "      <th>Purpose_furniture/equipment</th>\n",
       "      <td>1000.0</td>\n",
       "      <td>0.181</td>\n",
       "      <td>0.385211</td>\n",
       "      <td>0.0</td>\n",
       "      <td>0.0</td>\n",
       "      <td>0.0</td>\n",
       "      <td>0.00</td>\n",
       "      <td>1.0</td>\n",
       "    </tr>\n",
       "    <tr>\n",
       "      <th>Purpose_radio/TV</th>\n",
       "      <td>1000.0</td>\n",
       "      <td>0.280</td>\n",
       "      <td>0.449224</td>\n",
       "      <td>0.0</td>\n",
       "      <td>0.0</td>\n",
       "      <td>0.0</td>\n",
       "      <td>1.00</td>\n",
       "      <td>1.0</td>\n",
       "    </tr>\n",
       "    <tr>\n",
       "      <th>Purpose_repairs</th>\n",
       "      <td>1000.0</td>\n",
       "      <td>0.022</td>\n",
       "      <td>0.146757</td>\n",
       "      <td>0.0</td>\n",
       "      <td>0.0</td>\n",
       "      <td>0.0</td>\n",
       "      <td>0.00</td>\n",
       "      <td>1.0</td>\n",
       "    </tr>\n",
       "    <tr>\n",
       "      <th>Purpose_vacation/others</th>\n",
       "      <td>1000.0</td>\n",
       "      <td>0.012</td>\n",
       "      <td>0.108940</td>\n",
       "      <td>0.0</td>\n",
       "      <td>0.0</td>\n",
       "      <td>0.0</td>\n",
       "      <td>0.00</td>\n",
       "      <td>1.0</td>\n",
       "    </tr>\n",
       "  </tbody>\n",
       "</table>\n",
       "</div>"
      ],
      "text/plain": [
       "                                 count      mean          std    min     25%  \\\n",
       "Credit amount                   1000.0  3271.258  2822.736876  250.0  1365.5   \n",
       "Duration                        1000.0    20.903    12.058814    4.0    12.0   \n",
       "Risk                            1000.0     0.300     0.458487    0.0     0.0   \n",
       "Sex_female                      1000.0     0.310     0.462725    0.0     0.0   \n",
       "Sex_male                        1000.0     0.690     0.462725    0.0     0.0   \n",
       "Job_highly skilled              1000.0     0.148     0.355278    0.0     0.0   \n",
       "Job_skilled                     1000.0     0.630     0.483046    0.0     0.0   \n",
       "Job_unskilled_and_non-resident  1000.0     0.222     0.415799    0.0     0.0   \n",
       "Housing_free                    1000.0     0.108     0.310536    0.0     0.0   \n",
       "Housing_own                     1000.0     0.713     0.452588    0.0     0.0   \n",
       "Housing_rent                    1000.0     0.179     0.383544    0.0     0.0   \n",
       "Saving accounts_little          1000.0     0.786     0.410332    0.0     1.0   \n",
       "Saving accounts_moderate        1000.0     0.103     0.304111    0.0     0.0   \n",
       "Saving accounts_quite rich      1000.0     0.063     0.243085    0.0     0.0   \n",
       "Saving accounts_rich            1000.0     0.048     0.213873    0.0     0.0   \n",
       "Checking account_little         1000.0     0.465     0.499023    0.0     0.0   \n",
       "Checking account_moderate       1000.0     0.472     0.499465    0.0     0.0   \n",
       "Checking account_rich           1000.0     0.063     0.243085    0.0     0.0   \n",
       "Purpose_business                1000.0     0.097     0.296106    0.0     0.0   \n",
       "Purpose_car                     1000.0     0.337     0.472921    0.0     0.0   \n",
       "Purpose_domestic appliances     1000.0     0.012     0.108940    0.0     0.0   \n",
       "Purpose_education               1000.0     0.059     0.235743    0.0     0.0   \n",
       "Purpose_furniture/equipment     1000.0     0.181     0.385211    0.0     0.0   \n",
       "Purpose_radio/TV                1000.0     0.280     0.449224    0.0     0.0   \n",
       "Purpose_repairs                 1000.0     0.022     0.146757    0.0     0.0   \n",
       "Purpose_vacation/others         1000.0     0.012     0.108940    0.0     0.0   \n",
       "\n",
       "                                   50%      75%      max  \n",
       "Credit amount                   2319.5  3972.25  18424.0  \n",
       "Duration                          18.0    24.00     72.0  \n",
       "Risk                               0.0     1.00      1.0  \n",
       "Sex_female                         0.0     1.00      1.0  \n",
       "Sex_male                           1.0     1.00      1.0  \n",
       "Job_highly skilled                 0.0     0.00      1.0  \n",
       "Job_skilled                        1.0     1.00      1.0  \n",
       "Job_unskilled_and_non-resident     0.0     0.00      1.0  \n",
       "Housing_free                       0.0     0.00      1.0  \n",
       "Housing_own                        1.0     1.00      1.0  \n",
       "Housing_rent                       0.0     0.00      1.0  \n",
       "Saving accounts_little             1.0     1.00      1.0  \n",
       "Saving accounts_moderate           0.0     0.00      1.0  \n",
       "Saving accounts_quite rich         0.0     0.00      1.0  \n",
       "Saving accounts_rich               0.0     0.00      1.0  \n",
       "Checking account_little            0.0     1.00      1.0  \n",
       "Checking account_moderate          0.0     1.00      1.0  \n",
       "Checking account_rich              0.0     0.00      1.0  \n",
       "Purpose_business                   0.0     0.00      1.0  \n",
       "Purpose_car                        0.0     1.00      1.0  \n",
       "Purpose_domestic appliances        0.0     0.00      1.0  \n",
       "Purpose_education                  0.0     0.00      1.0  \n",
       "Purpose_furniture/equipment        0.0     0.00      1.0  \n",
       "Purpose_radio/TV                   0.0     1.00      1.0  \n",
       "Purpose_repairs                    0.0     0.00      1.0  \n",
       "Purpose_vacation/others            0.0     0.00      1.0  "
      ]
     },
     "execution_count": 35,
     "metadata": {},
     "output_type": "execute_result"
    }
   ],
   "source": [
    "copy.describe(include='all').T"
   ]
  },
  {
   "cell_type": "code",
   "execution_count": 36,
   "id": "bc105a8d",
   "metadata": {},
   "outputs": [
    {
     "name": "stdout",
     "output_type": "stream",
     "text": [
      "<class 'pandas.core.frame.DataFrame'>\n",
      "RangeIndex: 1000 entries, 0 to 999\n",
      "Data columns (total 26 columns):\n",
      " #   Column                          Non-Null Count  Dtype\n",
      "---  ------                          --------------  -----\n",
      " 0   Credit amount                   1000 non-null   int64\n",
      " 1   Duration                        1000 non-null   int64\n",
      " 2   Risk                            1000 non-null   int64\n",
      " 3   Sex_female                      1000 non-null   uint8\n",
      " 4   Sex_male                        1000 non-null   uint8\n",
      " 5   Job_highly skilled              1000 non-null   uint8\n",
      " 6   Job_skilled                     1000 non-null   uint8\n",
      " 7   Job_unskilled_and_non-resident  1000 non-null   uint8\n",
      " 8   Housing_free                    1000 non-null   uint8\n",
      " 9   Housing_own                     1000 non-null   uint8\n",
      " 10  Housing_rent                    1000 non-null   uint8\n",
      " 11  Saving accounts_little          1000 non-null   uint8\n",
      " 12  Saving accounts_moderate        1000 non-null   uint8\n",
      " 13  Saving accounts_quite rich      1000 non-null   uint8\n",
      " 14  Saving accounts_rich            1000 non-null   uint8\n",
      " 15  Checking account_little         1000 non-null   uint8\n",
      " 16  Checking account_moderate       1000 non-null   uint8\n",
      " 17  Checking account_rich           1000 non-null   uint8\n",
      " 18  Purpose_business                1000 non-null   uint8\n",
      " 19  Purpose_car                     1000 non-null   uint8\n",
      " 20  Purpose_domestic appliances     1000 non-null   uint8\n",
      " 21  Purpose_education               1000 non-null   uint8\n",
      " 22  Purpose_furniture/equipment     1000 non-null   uint8\n",
      " 23  Purpose_radio/TV                1000 non-null   uint8\n",
      " 24  Purpose_repairs                 1000 non-null   uint8\n",
      " 25  Purpose_vacation/others         1000 non-null   uint8\n",
      "dtypes: int64(3), uint8(23)\n",
      "memory usage: 46.0 KB\n"
     ]
    }
   ],
   "source": [
    "copy.info()"
   ]
  },
  {
   "cell_type": "markdown",
   "id": "1d72a891",
   "metadata": {},
   "source": [
    "After creating variables for all quanlitative attributes, all of them are converted into quantitative values so that we can proceed with model building easily."
   ]
  },
  {
   "cell_type": "markdown",
   "id": "01e6481e",
   "metadata": {},
   "source": [
    "# Model Building"
   ]
  },
  {
   "cell_type": "markdown",
   "id": "d3fa749f",
   "metadata": {},
   "source": [
    "## Split Data"
   ]
  },
  {
   "cell_type": "code",
   "execution_count": 37,
   "id": "06b258ea",
   "metadata": {},
   "outputs": [
    {
     "name": "stdout",
     "output_type": "stream",
     "text": [
      "(700, 25) (300, 25)\n"
     ]
    }
   ],
   "source": [
    "X = copy.drop('Risk',axis=1)\n",
    "y = copy['Risk'] \n",
    "\n",
    "# Splitting data into training and test set:\n",
    "X_train, X_test, y_train, y_test = train_test_split(X, y, test_size=0.3, random_state=1,stratify=y)\n",
    "print(X_train.shape, X_test.shape)"
   ]
  },
  {
   "cell_type": "markdown",
   "id": "426f8abe",
   "metadata": {},
   "source": [
    "We have splitted data into 70:30 ration so the train set has 700 values out of 1000 and test set has 300 values out of 1000. And all have 25 attributes(increased due to dummies)."
   ]
  },
  {
   "cell_type": "markdown",
   "id": "5bec7b13",
   "metadata": {},
   "source": [
    "#### Checking class distribution between train and test data."
   ]
  },
  {
   "cell_type": "code",
   "execution_count": 38,
   "id": "f71d5fee",
   "metadata": {},
   "outputs": [
    {
     "data": {
      "text/plain": [
       "0    0.7\n",
       "1    0.3\n",
       "Name: Risk, dtype: float64"
      ]
     },
     "execution_count": 38,
     "metadata": {},
     "output_type": "execute_result"
    }
   ],
   "source": [
    "y.value_counts(1)"
   ]
  },
  {
   "cell_type": "code",
   "execution_count": 39,
   "id": "cda7f830",
   "metadata": {},
   "outputs": [
    {
     "data": {
      "text/plain": [
       "0    0.7\n",
       "1    0.3\n",
       "Name: Risk, dtype: float64"
      ]
     },
     "execution_count": 39,
     "metadata": {},
     "output_type": "execute_result"
    }
   ],
   "source": [
    "y_test.value_counts(1)"
   ]
  },
  {
   "cell_type": "markdown",
   "id": "1884c227",
   "metadata": {},
   "source": [
    "Values of classes are same for both test and train data.So, the splitting data is done in a balanced manner."
   ]
  },
  {
   "cell_type": "markdown",
   "id": "bc796bbd",
   "metadata": {},
   "source": [
    "## Model evaluation Criteria"
   ]
  },
  {
   "cell_type": "markdown",
   "id": "c885341f",
   "metadata": {},
   "source": [
    "### The model can make wrong predictions as:"
   ]
  },
  {
   "cell_type": "markdown",
   "id": "8eca4248",
   "metadata": {},
   "source": [
    "1. If a potential customer is misclassified as being at Risk, the bank will not give the loan to \n",
    "that person. This will be a loss of opportunity to earn interest on the potential loan.\n",
    "2. If a customer is misclassified as NOT being at Risk, they may be given the loan \n",
    "but may default later. This will be a loss of resources."
   ]
  },
  {
   "cell_type": "markdown",
   "id": "25b01667",
   "metadata": {},
   "source": [
    "### Which case is more important?"
   ]
  },
  {
   "cell_type": "markdown",
   "id": "a4a08a15",
   "metadata": {},
   "source": [
    "Both cases are not good for a banking sector. Both can cause bad business impacts both financially and branding wise so rather just increasing recall or precision, we try to implement a balance here i.e., improve F1 value. "
   ]
  },
  {
   "cell_type": "markdown",
   "id": "b8b7d90d",
   "metadata": {},
   "source": [
    "### Which metric to optimize?"
   ]
  },
  {
   "cell_type": "markdown",
   "id": "c75c5530",
   "metadata": {},
   "source": [
    "We need to optimise F1 value to have a balanced model."
   ]
  },
  {
   "cell_type": "code",
   "execution_count": 40,
   "id": "29ae6187",
   "metadata": {},
   "outputs": [],
   "source": [
    "# defining a function to compute different metrics to check performance of a classification model built using sklearn\n",
    "def model_performance_classification_sklearn(model, predictors, target):\n",
    "    \n",
    "    # predicting using the independent variables\n",
    "    pred = model.predict(predictors)\n",
    "\n",
    "    acc = accuracy_score(target, pred)  # to compute Accuracy\n",
    "    recall = recall_score(target, pred)  # to compute Recall\n",
    "    precision = precision_score(target, pred)  # to compute Precision\n",
    "    f1 = f1_score(target, pred)  # to compute F1-score\n",
    "\n",
    "    # creating a dataframe of metrics\n",
    "    df_perf = pd.DataFrame(\n",
    "        {\n",
    "            \"Accuracy\": acc,\n",
    "            \"Recall\": recall,\n",
    "            \"Precision\": precision,\n",
    "            \"F1\": f1,\n",
    "        },\n",
    "        index=[0],\n",
    "    )\n",
    "\n",
    "    return df_perf"
   ]
  },
  {
   "cell_type": "code",
   "execution_count": 41,
   "id": "3efea2e5",
   "metadata": {},
   "outputs": [],
   "source": [
    "# function to create Confusion matrix\n",
    "def confusion_matrix_sklearn(model, predictors, target):\n",
    "\n",
    "    y_pred = model.predict(predictors)\n",
    "    cm = confusion_matrix(target, y_pred)\n",
    "    group_names = [\"True Neg\", \"False Pos\", \"False Neg\", \"True Pos\"]\n",
    "    group_counts = [\"{0:0.0f}\".format(value) for value in cm.flatten()]\n",
    "    group_percentages = [\"{0:.2%}\".format(value) for value in cm.flatten() / np.sum(cm)]\n",
    "    labels = [\n",
    "        f\"{v1}\\n{v2}\\n{v3}\"\n",
    "        for v1, v2, v3 in zip(group_names, group_counts, group_percentages)\n",
    "    ]\n",
    "    labels = np.asarray(labels).reshape(2, 2)\n",
    "    sns.heatmap(cm, annot=labels, fmt=\"\", cmap=\"Blues\")"
   ]
  },
  {
   "cell_type": "markdown",
   "id": "eabb11a6",
   "metadata": {},
   "source": [
    "## Decision Tree Model"
   ]
  },
  {
   "cell_type": "code",
   "execution_count": 42,
   "id": "5858dd6f",
   "metadata": {},
   "outputs": [
    {
     "name": "stdout",
     "output_type": "stream",
     "text": [
      "Training performance:\n",
      "    Accuracy  Recall  Precision   F1\n",
      "0       1.0     1.0        1.0  1.0\n",
      "Testing performance:\n",
      "    Accuracy    Recall  Precision        F1\n",
      "0      0.62  0.344444   0.360465  0.352273\n"
     ]
    },
    {
     "data": {
      "image/png": "[encoded data removed]",
      "text/plain": [
       "<Figure size 432x288 with 2 Axes>"
      ]
     },
     "metadata": {
      "needs_background": "light"
     },
     "output_type": "display_data"
    }
   ],
   "source": [
    "#Fitting the model\n",
    "d_tree = DecisionTreeClassifier(random_state=1)\n",
    "d_tree.fit(X_train,y_train)\n",
    "\n",
    "#Calculating different metrics\n",
    "dtree_model_train_perf=model_performance_classification_sklearn(d_tree,X_train,y_train)\n",
    "print(\"Training performance:\\n\",dtree_model_train_perf)\n",
    "dtree_model_test_perf=model_performance_classification_sklearn(d_tree,X_test,y_test)\n",
    "print(\"Testing performance:\\n\",dtree_model_test_perf)\n",
    "#Creating confusion matrix\n",
    "confusion_matrix_sklearn(d_tree, X_test, y_test)"
   ]
  },
  {
   "cell_type": "markdown",
   "id": "466631ec",
   "metadata": {},
   "source": [
    "#### Observations:\n",
    "- The metrics for train and test data have so much difference. The metrics of Train test is too high when compared to test set.\n",
    "- We can say the model is overfitting.\n",
    "- The F1 value is too low = 35%"
   ]
  },
  {
   "cell_type": "markdown",
   "id": "d6aa3926",
   "metadata": {},
   "source": [
    "## Random Forest Model"
   ]
  },
  {
   "cell_type": "code",
   "execution_count": 43,
   "id": "d8b49690",
   "metadata": {},
   "outputs": [
    {
     "name": "stdout",
     "output_type": "stream",
     "text": [
      "Training performance:\n",
      "    Accuracy  Recall  Precision   F1\n",
      "0       1.0     1.0        1.0  1.0\n",
      "Testing performance:\n",
      "    Accuracy    Recall  Precision        F1\n",
      "0      0.65  0.277778   0.384615  0.322581\n"
     ]
    },
    {
     "data": {
      "image/png": "[encoded data removed]",
      "text/plain": [
       "<Figure size 432x288 with 2 Axes>"
      ]
     },
     "metadata": {
      "needs_background": "light"
     },
     "output_type": "display_data"
    }
   ],
   "source": [
    "#Fitting the model\n",
    "rf_estimator = RandomForestClassifier(random_state=1)\n",
    "rf_estimator.fit(X_train,y_train)\n",
    "\n",
    "#Calculating different metrics\n",
    "rf_estimator_model_train_perf=model_performance_classification_sklearn(rf_estimator,X_train,y_train)\n",
    "print(\"Training performance:\\n\",rf_estimator_model_train_perf)\n",
    "rf_estimator_model_test_perf=model_performance_classification_sklearn(rf_estimator,X_test,y_test)\n",
    "print(\"Testing performance:\\n\",rf_estimator_model_test_perf)\n",
    "\n",
    "#Creating confusion matrix\n",
    "confusion_matrix_sklearn(rf_estimator, X_test, y_test)"
   ]
  },
  {
   "cell_type": "markdown",
   "id": "9d73bd0b",
   "metadata": {},
   "source": [
    "#### Observations:\n",
    "- The train and test set values are too different from each other, so the data is overfitting.\n",
    "- F1 value is too low, 32% when we need to have a better performance in the model.\n",
    "\n",
    "We need to tune hyperparameters and improve the performance of our model."
   ]
  },
  {
   "cell_type": "markdown",
   "id": "8d921dc2",
   "metadata": {},
   "source": [
    "## Tuning decision Tree"
   ]
  },
  {
   "cell_type": "code",
   "execution_count": 44,
   "id": "9dc28776",
   "metadata": {},
   "outputs": [
    {
     "data": {
      "text/plain": [
       "DecisionTreeClassifier(class_weight={0: 0.35, 1: 0.65}, max_depth=4,\n",
       "                       max_leaf_nodes=5, min_impurity_decrease=0.0001,\n",
       "                       min_samples_leaf=7, random_state=1)"
      ]
     },
     "execution_count": 44,
     "metadata": {},
     "output_type": "execute_result"
    }
   ],
   "source": [
    "#Choose the type of classifier. \n",
    "dtree_tuned = DecisionTreeClassifier(class_weight={0:0.35,1:0.65},random_state=1) # using reverse class weights\n",
    "\n",
    "# Grid of parameters to choose from\n",
    "parameters = {'max_depth': np.arange(2,8,1), \n",
    "              'min_samples_leaf': [5, 7, 10],\n",
    "              'max_leaf_nodes' : [3, 5, 10,15],\n",
    "              'min_impurity_decrease': [0.0001,0.001,0.01,0.1]\n",
    "             }\n",
    "\n",
    "# Type of scoring used to compare parameter combinations\n",
    "scorer = metrics.make_scorer(metrics.recall_score)\n",
    "\n",
    "# Run the grid search\n",
    "grid_obj = GridSearchCV(dtree_tuned, parameters, scoring=scorer,n_jobs=-3)\n",
    "grid_obj = grid_obj.fit(X_train, y_train)\n",
    "\n",
    "# Set the clf to the best combination of parameters\n",
    "dtree_tuned = grid_obj.best_estimator_\n",
    "\n",
    "# Fit the best algorithm to the data. \n",
    "dtree_tuned.fit(X_train, y_train)"
   ]
  },
  {
   "cell_type": "code",
   "execution_count": 45,
   "id": "7ec2b3c2",
   "metadata": {},
   "outputs": [
    {
     "name": "stdout",
     "output_type": "stream",
     "text": [
      "Training performance:\n",
      "    Accuracy    Recall  Precision       F1\n",
      "0  0.677143  0.633333   0.471631  0.54065\n",
      "Testing performance:\n",
      "    Accuracy    Recall  Precision        F1\n",
      "0      0.59  0.511111      0.368  0.427907\n"
     ]
    },
    {
     "data": {
      "image/png": "[encoded data removed]",
      "text/plain": [
       "<Figure size 432x288 with 2 Axes>"
      ]
     },
     "metadata": {
      "needs_background": "light"
     },
     "output_type": "display_data"
    }
   ],
   "source": [
    "#Calculating different metrics\n",
    "dtree_tuned_model_train_perf=model_performance_classification_sklearn(dtree_tuned,X_train,y_train)\n",
    "print(\"Training performance:\\n\",dtree_tuned_model_train_perf)\n",
    "dtree_tuned_model_test_perf=model_performance_classification_sklearn(dtree_tuned,X_test,y_test)\n",
    "print(\"Testing performance:\\n\",dtree_tuned_model_test_perf)\n",
    "#Creating confusion matrix\n",
    "confusion_matrix_sklearn(dtree_tuned, X_test, y_test)"
   ]
  },
  {
   "cell_type": "markdown",
   "id": "468ed667",
   "metadata": {},
   "source": [
    "After few changes in the class weights i.e., using revenrse class weights, 0 wit 35% and 1 with 65%,we can get an optimal values of metrics.\n",
    "- Both train and test performances are much similar compared to last performance. The model is not overfitting now.\n",
    "- f1 Value has increased to 43% from 35%.\n",
    "- All other metrics are good comparitive last performance.\n",
    "- by increasing or decreasing the class weights other than these are causing the model to have low f1 metrics. So these values are choosen to be optimal values."
   ]
  },
  {
   "cell_type": "markdown",
   "id": "a0926eb0",
   "metadata": {},
   "source": [
    "## Tuning Random Forest"
   ]
  },
  {
   "cell_type": "code",
   "execution_count": 46,
   "id": "7379e0a2",
   "metadata": {},
   "outputs": [
    {
     "data": {
      "text/plain": [
       "RandomForestClassifier(class_weight={0: 0.35, 1: 0.75}, max_depth=5,\n",
       "                       max_features=0.7999999999999999, max_samples=0.8,\n",
       "                       min_impurity_decrease=0.01, min_samples_split=6,\n",
       "                       n_estimators=20, random_state=1)"
      ]
     },
     "execution_count": 46,
     "metadata": {},
     "output_type": "execute_result"
    }
   ],
   "source": [
    "# Choose the type of classifier. \n",
    "rf_tuned = RandomForestClassifier(class_weight={0:0.35,1:0.75},random_state=1)\n",
    "\n",
    "parameters = {  \n",
    "                'max_depth': list(np.arange(2,8,1)),\n",
    "                'max_features': np.arange(0.5,0.8,0.1),\n",
    "                'max_samples': np.arange(0.8,1,0.1),\n",
    "                'min_samples_split': np.arange(1, 15, 5),\n",
    "                'n_estimators': np.arange(20,100,20),\n",
    "                'min_impurity_decrease': [0.001,0.01,0.1]\n",
    "}\n",
    "\n",
    "\n",
    "# Type of scoring used to compare parameter combinations\n",
    "scorer = metrics.make_scorer(metrics.recall_score)\n",
    "\n",
    "# Run the grid search\n",
    "grid_obj = GridSearchCV(rf_tuned, parameters, scoring=scorer,cv=5,n_jobs=-4)\n",
    "grid_obj = grid_obj.fit(X_train, y_train)\n",
    "\n",
    "# Set the clf to the best combination of parameters\n",
    "rf_tuned = grid_obj.best_estimator_\n",
    "\n",
    "# Fit the best algorithm to the data. \n",
    "rf_tuned.fit(X_train, y_train)"
   ]
  },
  {
   "cell_type": "code",
   "execution_count": 47,
   "id": "ec18665a",
   "metadata": {},
   "outputs": [
    {
     "name": "stdout",
     "output_type": "stream",
     "text": [
      "Training performance:\n",
      "    Accuracy    Recall  Precision        F1\n",
      "0      0.73  0.614286   0.544304  0.577181\n",
      "Testing performance:\n",
      "    Accuracy    Recall  Precision       F1\n",
      "0  0.623333  0.511111        0.4  0.44878\n"
     ]
    },
    {
     "data": {
      "image/png": "[encoded data removed]",
      "text/plain": [
       "<Figure size 432x288 with 2 Axes>"
      ]
     },
     "metadata": {
      "needs_background": "light"
     },
     "output_type": "display_data"
    }
   ],
   "source": [
    "#Calculating different metrics\n",
    "rf_tuned_model_train_perf=model_performance_classification_sklearn(rf_tuned,X_train,y_train)\n",
    "print(\"Training performance:\\n\",rf_tuned_model_train_perf)\n",
    "rf_tuned_model_test_perf=model_performance_classification_sklearn(rf_tuned,X_test,y_test)\n",
    "print(\"Testing performance:\\n\",rf_tuned_model_test_perf)\n",
    "\n",
    "#Creating confusion matrix\n",
    "confusion_matrix_sklearn(rf_tuned, X_test, y_test)"
   ]
  },
  {
   "cell_type": "markdown",
   "id": "366a4745",
   "metadata": {},
   "source": [
    "After tuning the random forest, we have improved results but not excellent performance of the metrics.\n",
    "- F1 value has increased from 32% to 45%.\n",
    "- The metrics are not too high so they are not overfitting.\n",
    "- The train and test performance is similar so its not underfitting too.\n",
    "- from this analysis we have improved f1, the recall has increased by decreasing False Neg so our model do no classify people as Not Risks and we need not worry about loosing resurces. Precision is also increased after tuning the model, so now the model decreased false Positives i.e., it does not tell potential applicants as RISK so that we could give our loans to more people and improve our financials."
   ]
  },
  {
   "cell_type": "markdown",
   "id": "a553171a",
   "metadata": {},
   "source": [
    "## Comparing all the models"
   ]
  },
  {
   "cell_type": "code",
   "execution_count": 48,
   "id": "df252eda",
   "metadata": {},
   "outputs": [
    {
     "name": "stdout",
     "output_type": "stream",
     "text": [
      "Training performance comparison:\n"
     ]
    },
    {
     "data": {
      "text/html": [
       "<div>\n",
       "<style scoped>\n",
       "    .dataframe tbody tr th:only-of-type {\n",
       "        vertical-align: middle;\n",
       "    }\n",
       "\n",
       "    .dataframe tbody tr th {\n",
       "        vertical-align: top;\n",
       "    }\n",
       "\n",
       "    .dataframe thead th {\n",
       "        text-align: right;\n",
       "    }\n",
       "</style>\n",
       "<table border=\"1\" class=\"dataframe\">\n",
       "  <thead>\n",
       "    <tr style=\"text-align: right;\">\n",
       "      <th></th>\n",
       "      <th>Decision Tree</th>\n",
       "      <th>Decision Tree Tuned</th>\n",
       "      <th>Random Forest Estimator</th>\n",
       "      <th>Random Forest Tuned</th>\n",
       "    </tr>\n",
       "  </thead>\n",
       "  <tbody>\n",
       "    <tr>\n",
       "      <th>Accuracy</th>\n",
       "      <td>1.0</td>\n",
       "      <td>0.677143</td>\n",
       "      <td>1.0</td>\n",
       "      <td>0.730000</td>\n",
       "    </tr>\n",
       "    <tr>\n",
       "      <th>Recall</th>\n",
       "      <td>1.0</td>\n",
       "      <td>0.633333</td>\n",
       "      <td>1.0</td>\n",
       "      <td>0.614286</td>\n",
       "    </tr>\n",
       "    <tr>\n",
       "      <th>Precision</th>\n",
       "      <td>1.0</td>\n",
       "      <td>0.471631</td>\n",
       "      <td>1.0</td>\n",
       "      <td>0.544304</td>\n",
       "    </tr>\n",
       "    <tr>\n",
       "      <th>F1</th>\n",
       "      <td>1.0</td>\n",
       "      <td>0.540650</td>\n",
       "      <td>1.0</td>\n",
       "      <td>0.577181</td>\n",
       "    </tr>\n",
       "  </tbody>\n",
       "</table>\n",
       "</div>"
      ],
      "text/plain": [
       "           Decision Tree  Decision Tree Tuned  Random Forest Estimator  \\\n",
       "Accuracy             1.0             0.677143                      1.0   \n",
       "Recall               1.0             0.633333                      1.0   \n",
       "Precision            1.0             0.471631                      1.0   \n",
       "F1                   1.0             0.540650                      1.0   \n",
       "\n",
       "           Random Forest Tuned  \n",
       "Accuracy              0.730000  \n",
       "Recall                0.614286  \n",
       "Precision             0.544304  \n",
       "F1                    0.577181  "
      ]
     },
     "execution_count": 48,
     "metadata": {},
     "output_type": "execute_result"
    }
   ],
   "source": [
    "# training performance comparison\n",
    "\n",
    "models_train_comp_df = pd.concat(\n",
    "    [dtree_model_train_perf.T,dtree_tuned_model_train_perf.T,rf_estimator_model_train_perf.T,rf_tuned_model_train_perf.T],\n",
    "    axis=1,\n",
    ")\n",
    "models_train_comp_df.columns = [\n",
    "    \"Decision Tree\",\n",
    "    \"Decision Tree Tuned\",\n",
    "    \"Random Forest Estimator\",\n",
    "    \"Random Forest Tuned\",]\n",
    "print(\"Training performance comparison:\")\n",
    "models_train_comp_df"
   ]
  },
  {
   "cell_type": "code",
   "execution_count": 49,
   "id": "addaa655",
   "metadata": {},
   "outputs": [
    {
     "name": "stdout",
     "output_type": "stream",
     "text": [
      "Testing performance comparison:\n"
     ]
    },
    {
     "data": {
      "text/html": [
       "<div>\n",
       "<style scoped>\n",
       "    .dataframe tbody tr th:only-of-type {\n",
       "        vertical-align: middle;\n",
       "    }\n",
       "\n",
       "    .dataframe tbody tr th {\n",
       "        vertical-align: top;\n",
       "    }\n",
       "\n",
       "    .dataframe thead th {\n",
       "        text-align: right;\n",
       "    }\n",
       "</style>\n",
       "<table border=\"1\" class=\"dataframe\">\n",
       "  <thead>\n",
       "    <tr style=\"text-align: right;\">\n",
       "      <th></th>\n",
       "      <th>Decision Tree</th>\n",
       "      <th>Decision Tree Tuned</th>\n",
       "      <th>Random Forest Estimator</th>\n",
       "      <th>Random Forest Tuned</th>\n",
       "    </tr>\n",
       "  </thead>\n",
       "  <tbody>\n",
       "    <tr>\n",
       "      <th>Accuracy</th>\n",
       "      <td>0.620000</td>\n",
       "      <td>0.590000</td>\n",
       "      <td>0.650000</td>\n",
       "      <td>0.623333</td>\n",
       "    </tr>\n",
       "    <tr>\n",
       "      <th>Recall</th>\n",
       "      <td>0.344444</td>\n",
       "      <td>0.511111</td>\n",
       "      <td>0.277778</td>\n",
       "      <td>0.511111</td>\n",
       "    </tr>\n",
       "    <tr>\n",
       "      <th>Precision</th>\n",
       "      <td>0.360465</td>\n",
       "      <td>0.368000</td>\n",
       "      <td>0.384615</td>\n",
       "      <td>0.400000</td>\n",
       "    </tr>\n",
       "    <tr>\n",
       "      <th>F1</th>\n",
       "      <td>0.352273</td>\n",
       "      <td>0.427907</td>\n",
       "      <td>0.322581</td>\n",
       "      <td>0.448780</td>\n",
       "    </tr>\n",
       "  </tbody>\n",
       "</table>\n",
       "</div>"
      ],
      "text/plain": [
       "           Decision Tree  Decision Tree Tuned  Random Forest Estimator  \\\n",
       "Accuracy        0.620000             0.590000                 0.650000   \n",
       "Recall          0.344444             0.511111                 0.277778   \n",
       "Precision       0.360465             0.368000                 0.384615   \n",
       "F1              0.352273             0.427907                 0.322581   \n",
       "\n",
       "           Random Forest Tuned  \n",
       "Accuracy              0.623333  \n",
       "Recall                0.511111  \n",
       "Precision             0.400000  \n",
       "F1                    0.448780  "
      ]
     },
     "execution_count": 49,
     "metadata": {},
     "output_type": "execute_result"
    }
   ],
   "source": [
    "# testing performance comparison\n",
    "\n",
    "models_test_comp_df = pd.concat(\n",
    "    [dtree_model_test_perf.T,dtree_tuned_model_test_perf.T,rf_estimator_model_test_perf.T,rf_tuned_model_test_perf.T,\n",
    "     ],\n",
    "    axis=1,\n",
    ")\n",
    "models_test_comp_df.columns = [\n",
    "    \"Decision Tree\",\n",
    "    \"Decision Tree Tuned\",\n",
    "    \"Random Forest Estimator\",\n",
    "    \"Random Forest Tuned\",\n",
    "    ]\n",
    "print(\"Testing performance comparison:\")\n",
    "models_test_comp_df"
   ]
  },
  {
   "cell_type": "markdown",
   "id": "667bb6f5",
   "metadata": {},
   "source": [
    "#### Observations:\n",
    "- As we are focusing F1 metrics, we can say from the above table that Tuned Random Forest model is doing better when compared to other models as it has the highest values.\n",
    "- In Tuned Random Forest model we have improved precision as well and Recall is also better than other models.\n",
    "- The values of Tuned Random Forest model train and test performance gives similar results so they are not underfitting and also their results are not too high in train and not that good as in test like in Decision Tree and Random Forest model, So it is not overfitting as well."
   ]
  },
  {
   "cell_type": "markdown",
   "id": "cd68a9c4",
   "metadata": {},
   "source": [
    "# Feature importance of Random Forest Tuned Model"
   ]
  },
  {
   "cell_type": "code",
   "execution_count": 50,
   "id": "78427407",
   "metadata": {},
   "outputs": [
    {
     "data": {
      "text/plain": [
       "array([0.38043706, 0.4451192 , 0.02588813, 0.00528367, 0.0178866 ,\n",
       "       0.        , 0.        , 0.00667068, 0.        , 0.        ,\n",
       "       0.        , 0.        , 0.        , 0.02262093, 0.03517735,\n",
       "       0.        , 0.00791247, 0.        , 0.        , 0.00574977,\n",
       "       0.00532187, 0.01119529, 0.03073697, 0.        , 0.        ])"
      ]
     },
     "execution_count": 50,
     "metadata": {},
     "output_type": "execute_result"
    }
   ],
   "source": [
    "# Text report showing the rules of a Random Forest Tuned -\n",
    "rf_tuned.feature_importances_"
   ]
  },
  {
   "cell_type": "code",
   "execution_count": 51,
   "id": "1608a319",
   "metadata": {},
   "outputs": [
    {
     "data": {
      "image/png": "[encoded data removed]",
      "text/plain": [
       "<Figure size 864x864 with 1 Axes>"
      ]
     },
     "metadata": {
      "needs_background": "light"
     },
     "output_type": "display_data"
    }
   ],
   "source": [
    "feature_names = X_train.columns\n",
    "importances = rf_tuned.feature_importances_\n",
    "indices = np.argsort(importances)\n",
    "\n",
    "plt.figure(figsize=(12,12))\n",
    "plt.title('Feature Importances')\n",
    "plt.barh(range(len(indices)), importances[indices], color='violet', align='center')\n",
    "plt.yticks(range(len(indices)), [feature_names[i] for i in indices])\n",
    "plt.xlabel('Relative Importance')\n",
    "plt.show()"
   ]
  },
  {
   "cell_type": "markdown",
   "id": "87efde50",
   "metadata": {},
   "source": [
    "- We can see that Duration is the highest feature for this model followed by Credit amount, Checking account_little, Purpose_ratio/TV, Sex_female, Savings accounts_rich,Job_highly skilled, Purpose_furniture/equipment, Checking account_rich, Housing_free, Purpose_domestic appliances, Purpose_education, Sex_male.\n",
    "- Remaining variables are not used in making classes in our tuned random Forest model."
   ]
  },
  {
   "cell_type": "markdown",
   "id": "1a54bc60",
   "metadata": {},
   "source": [
    "# Conclusions"
   ]
  },
  {
   "cell_type": "markdown",
   "id": "3c8bb11c",
   "metadata": {},
   "source": [
    "- Important features of the model are - Credit amount, Checking account_little, Purpose_ratio/TV, Sex_female, Savings accounts_rich,Job_highly skilled, Purpose_furniture/equipment, Checking account_rich, Housing_free, Purpose_domestic appliances, Purpose_education, Sex_male.\n",
    "- With imporvement in the performance of the model, bank can apply it to find out the risk factor in giving a new applicant credit.\n",
    "- WIth good results, the bank can know which applicant is not risky and will pay back the money and also the person who is most likely to default the loan. In this way bank can save their resources and also increase their interest and give more non-risk people credits.\n",
    "- SInce all the models are not giving such a good performance the banks cannot rely completely on these models until improved their performances. \n",
    "- According to the model, bank is depending only on 13 features out of 25.\n",
    "- People who take more credit amounts for a long duration with little money in their checking accounts, especially female are more risky than compared to others."
   ]
  }
 ],
 "metadata": {
  "kernelspec": {
   "display_name": "Python 3",
   "language": "python",
   "name": "python3"
  },
  "language_info": {
   "codemirror_mode": {
    "name": "ipython",
    "version": 3
   },
   "file_extension": ".py",
   "mimetype": "text/x-python",
   "name": "python",
   "nbconvert_exporter": "python",
   "pygments_lexer": "ipython3",
   "version": "3.8.8"
  }
 },
 "nbformat": 4,
 "nbformat_minor": 5
}
